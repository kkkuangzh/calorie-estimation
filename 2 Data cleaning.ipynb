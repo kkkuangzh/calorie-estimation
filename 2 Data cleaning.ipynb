{
 "cells": [
  {
   "cell_type": "markdown",
   "metadata": {},
   "source": [
    "# Clean collected data\n",
    "per serving and per recipe\n",
    "\n",
    "including merge, remove nan, remove outliers, re-download images, train-test split..."
   ]
  },
  {
   "cell_type": "code",
   "execution_count": 1,
   "metadata": {},
   "outputs": [],
   "source": [
    "import re\n",
    "import os\n",
    "import ast\n",
    "import shutil\n",
    "import pandas as pd\n",
    "import numpy as np\n",
    "import seaborn as sns\n",
    "from PIL import Image\n",
    "import matplotlib.pyplot as plt\n",
    "\n",
    "%matplotlib inline\n",
    "%config InlineBackend.figure_format='retina'"
   ]
  },
  {
   "cell_type": "markdown",
   "metadata": {},
   "source": [
    "## merge images and csv files from two sources\n",
    "add 'calorie' as a new column"
   ]
  },
  {
   "cell_type": "code",
   "execution_count": 5,
   "metadata": {},
   "outputs": [
    {
     "name": "stdout",
     "output_type": "stream",
     "text": [
      "7773\n",
      "1372\n",
      "7761\n",
      "1370\n"
     ]
    }
   ],
   "source": [
    "def remove_nan_calorie_rows(csv_file):\n",
    "    # delete rows without annotated calorie value\n",
    "    calorie_list = []\n",
    "    nan_calorie_list = []\n",
    "    for (i, value) in enumerate(csv_file['nutrients']):\n",
    "        # the format of nutrient is different in the two datasets\n",
    "        if (csv_file['file_name'][i].startswith('kitchen')) == True:\n",
    "            try:\n",
    "                calorie_list.append(int(ast.literal_eval(value)['Calories ']))\n",
    "            except:\n",
    "                nan_calorie_list.append(i)\n",
    "        else:\n",
    "            try:\n",
    "                calorie_list.append(int(re.findall('\\d+', ast.literal_eval(value)['calories'])[0]))\n",
    "            except:\n",
    "                nan_calorie_list.append(i)\n",
    "    \n",
    "    csv_file = csv_file.drop(nan_calorie_list)\n",
    "    csv_file['calorie'] = calorie_list\n",
    "    #csv_file = csv_file.drop('image', axis=1)\n",
    "    return csv_file\n",
    "\n",
    "\n",
    "# store in csv file first to make the index consistent\n",
    "train1 = pd.read_csv('./data/bbc_train.csv')\n",
    "train2 = pd.read_csv('./data/kitchen_train.csv')\n",
    "train = train1.append(train2)\n",
    "\n",
    "test1 = pd.read_csv('./data/bbc_test.csv')\n",
    "test2 = pd.read_csv('./data/kitchen_test.csv')\n",
    "test = test1.append(test2)\n",
    "\n",
    "train.to_csv('./data/train.csv', index=False)\n",
    "test.to_csv('./data/test.csv', index=False)\n",
    "\n",
    "# read merged csv file and remove rows with NaN calories\n",
    "train = pd.read_csv('./data/train.csv')\n",
    "test = pd.read_csv('./data/test.csv')\n",
    "print(len(train))\n",
    "print(len(test))\n",
    "\n",
    "train = remove_nan_calorie_rows(train)\n",
    "test = remove_nan_calorie_rows(test)\n",
    "train.to_csv('./data/train.csv', index=False)\n",
    "test.to_csv('./data/test.csv', index=False)\n",
    "print(len(train))\n",
    "print(len(test))\n",
    "\n",
    "all_data = pd.read_csv('./data/train.csv').append(pd.read_csv('./data/test.csv'))\n",
    "all_data.to_csv('./data/all_data.csv', index=False)"
   ]
  },
  {
   "cell_type": "code",
   "execution_count": 2,
   "metadata": {},
   "outputs": [
    {
     "name": "stdout",
     "output_type": "stream",
     "text": [
      "9131\n"
     ]
    },
    {
     "data": {
      "text/html": [
       "<div>\n",
       "<style scoped>\n",
       "    .dataframe tbody tr th:only-of-type {\n",
       "        vertical-align: middle;\n",
       "    }\n",
       "\n",
       "    .dataframe tbody tr th {\n",
       "        vertical-align: top;\n",
       "    }\n",
       "\n",
       "    .dataframe thead th {\n",
       "        text-align: right;\n",
       "    }\n",
       "</style>\n",
       "<table border=\"1\" class=\"dataframe\">\n",
       "  <thead>\n",
       "    <tr style=\"text-align: right;\">\n",
       "      <th></th>\n",
       "      <th>title</th>\n",
       "      <th>image</th>\n",
       "      <th>ingredients</th>\n",
       "      <th>nutrients</th>\n",
       "      <th>file_name</th>\n",
       "      <th>category</th>\n",
       "      <th>serving</th>\n",
       "      <th>url</th>\n",
       "      <th>source</th>\n",
       "      <th>calorie</th>\n",
       "    </tr>\n",
       "  </thead>\n",
       "  <tbody>\n",
       "    <tr>\n",
       "      <th>0</th>\n",
       "      <td>Easy bread rolls</td>\n",
       "      <td>https://images.immediate.co.uk/production/vola...</td>\n",
       "      <td>['500g strong white bread flour , plus extra f...</td>\n",
       "      <td>{'calories': '246 calories', 'fatContent': '2 ...</td>\n",
       "      <td>bread0.jpg</td>\n",
       "      <td>bread</td>\n",
       "      <td>8.0</td>\n",
       "      <td>https://www.bbcgoodfood.com/recipes/Easy-bread...</td>\n",
       "      <td>bbc</td>\n",
       "      <td>246</td>\n",
       "    </tr>\n",
       "    <tr>\n",
       "      <th>1</th>\n",
       "      <td>Vegan banana bread</td>\n",
       "      <td>https://images.immediate.co.uk/production/vola...</td>\n",
       "      <td>['3 large black bananas', '75ml vegetable oil ...</td>\n",
       "      <td>{'calories': '218 calories', 'fatContent': '8 ...</td>\n",
       "      <td>bread1.jpg</td>\n",
       "      <td>bread</td>\n",
       "      <td>10.0</td>\n",
       "      <td>https://www.bbcgoodfood.com/recipes/Vegan-bana...</td>\n",
       "      <td>bbc</td>\n",
       "      <td>218</td>\n",
       "    </tr>\n",
       "    <tr>\n",
       "      <th>2</th>\n",
       "      <td>Meatball &amp; garlic bread traybake</td>\n",
       "      <td>https://images.immediate.co.uk/production/vola...</td>\n",
       "      <td>['350g turkey thigh mince', '1 tsp dried orega...</td>\n",
       "      <td>{'calories': '565 calories', 'fatContent': '28...</td>\n",
       "      <td>bread2.jpg</td>\n",
       "      <td>bread</td>\n",
       "      <td>3.0</td>\n",
       "      <td>https://www.bbcgoodfood.com/recipes/Meatball-&amp;...</td>\n",
       "      <td>bbc</td>\n",
       "      <td>565</td>\n",
       "    </tr>\n",
       "    <tr>\n",
       "      <th>3</th>\n",
       "      <td>Naan bread</td>\n",
       "      <td>https://images.immediate.co.uk/production/vola...</td>\n",
       "      <td>['1x 7g sachet dried yeast', '2 tsp golden cas...</td>\n",
       "      <td>{'calories': '224 calories', 'fatContent': '8 ...</td>\n",
       "      <td>bread3.jpg</td>\n",
       "      <td>bread</td>\n",
       "      <td>8.0</td>\n",
       "      <td>https://www.bbcgoodfood.com/recipes/Naan-bread</td>\n",
       "      <td>bbc</td>\n",
       "      <td>224</td>\n",
       "    </tr>\n",
       "    <tr>\n",
       "      <th>4</th>\n",
       "      <td>Pitta bread</td>\n",
       "      <td>https://images.immediate.co.uk/production/vola...</td>\n",
       "      <td>['2 tsp fast-action dried yeast', '500g strong...</td>\n",
       "      <td>{'calories': '246 calories', 'fatContent': '2 ...</td>\n",
       "      <td>bread4.jpg</td>\n",
       "      <td>bread</td>\n",
       "      <td>8.0</td>\n",
       "      <td>https://www.bbcgoodfood.com/recipes/Pitta-bread</td>\n",
       "      <td>bbc</td>\n",
       "      <td>246</td>\n",
       "    </tr>\n",
       "  </tbody>\n",
       "</table>\n",
       "</div>"
      ],
      "text/plain": [
       "                              title  \\\n",
       "0                  Easy bread rolls   \n",
       "1                Vegan banana bread   \n",
       "2  Meatball & garlic bread traybake   \n",
       "3                        Naan bread   \n",
       "4                       Pitta bread   \n",
       "\n",
       "                                               image  \\\n",
       "0  https://images.immediate.co.uk/production/vola...   \n",
       "1  https://images.immediate.co.uk/production/vola...   \n",
       "2  https://images.immediate.co.uk/production/vola...   \n",
       "3  https://images.immediate.co.uk/production/vola...   \n",
       "4  https://images.immediate.co.uk/production/vola...   \n",
       "\n",
       "                                         ingredients  \\\n",
       "0  ['500g strong white bread flour , plus extra f...   \n",
       "1  ['3 large black bananas', '75ml vegetable oil ...   \n",
       "2  ['350g turkey thigh mince', '1 tsp dried orega...   \n",
       "3  ['1x 7g sachet dried yeast', '2 tsp golden cas...   \n",
       "4  ['2 tsp fast-action dried yeast', '500g strong...   \n",
       "\n",
       "                                           nutrients   file_name category  \\\n",
       "0  {'calories': '246 calories', 'fatContent': '2 ...  bread0.jpg    bread   \n",
       "1  {'calories': '218 calories', 'fatContent': '8 ...  bread1.jpg    bread   \n",
       "2  {'calories': '565 calories', 'fatContent': '28...  bread2.jpg    bread   \n",
       "3  {'calories': '224 calories', 'fatContent': '8 ...  bread3.jpg    bread   \n",
       "4  {'calories': '246 calories', 'fatContent': '2 ...  bread4.jpg    bread   \n",
       "\n",
       "   serving                                                url source  calorie  \n",
       "0      8.0  https://www.bbcgoodfood.com/recipes/Easy-bread...    bbc      246  \n",
       "1     10.0  https://www.bbcgoodfood.com/recipes/Vegan-bana...    bbc      218  \n",
       "2      3.0  https://www.bbcgoodfood.com/recipes/Meatball-&...    bbc      565  \n",
       "3      8.0     https://www.bbcgoodfood.com/recipes/Naan-bread    bbc      224  \n",
       "4      8.0    https://www.bbcgoodfood.com/recipes/Pitta-bread    bbc      246  "
      ]
     },
     "execution_count": 2,
     "metadata": {},
     "output_type": "execute_result"
    }
   ],
   "source": [
    "all_data = pd.read_csv('./data/all_data.csv')\n",
    "print(len(all_data))\n",
    "all_data.head()"
   ]
  },
  {
   "cell_type": "code",
   "execution_count": 3,
   "metadata": {},
   "outputs": [
    {
     "data": {
      "text/html": [
       "<div>\n",
       "<style scoped>\n",
       "    .dataframe tbody tr th:only-of-type {\n",
       "        vertical-align: middle;\n",
       "    }\n",
       "\n",
       "    .dataframe tbody tr th {\n",
       "        vertical-align: top;\n",
       "    }\n",
       "\n",
       "    .dataframe thead th {\n",
       "        text-align: right;\n",
       "    }\n",
       "</style>\n",
       "<table border=\"1\" class=\"dataframe\">\n",
       "  <thead>\n",
       "    <tr style=\"text-align: right;\">\n",
       "      <th></th>\n",
       "      <th>serving</th>\n",
       "      <th>calorie</th>\n",
       "    </tr>\n",
       "  </thead>\n",
       "  <tbody>\n",
       "    <tr>\n",
       "      <th>count</th>\n",
       "      <td>9075.000000</td>\n",
       "      <td>9131.000000</td>\n",
       "    </tr>\n",
       "    <tr>\n",
       "      <th>mean</th>\n",
       "      <td>8.164408</td>\n",
       "      <td>423.973168</td>\n",
       "    </tr>\n",
       "    <tr>\n",
       "      <th>std</th>\n",
       "      <td>28.506662</td>\n",
       "      <td>284.912564</td>\n",
       "    </tr>\n",
       "    <tr>\n",
       "      <th>min</th>\n",
       "      <td>0.000000</td>\n",
       "      <td>0.000000</td>\n",
       "    </tr>\n",
       "    <tr>\n",
       "      <th>25%</th>\n",
       "      <td>4.000000</td>\n",
       "      <td>260.000000</td>\n",
       "    </tr>\n",
       "    <tr>\n",
       "      <th>50%</th>\n",
       "      <td>4.000000</td>\n",
       "      <td>385.000000</td>\n",
       "    </tr>\n",
       "    <tr>\n",
       "      <th>75%</th>\n",
       "      <td>8.000000</td>\n",
       "      <td>544.500000</td>\n",
       "    </tr>\n",
       "    <tr>\n",
       "      <th>max</th>\n",
       "      <td>850.000000</td>\n",
       "      <td>7865.000000</td>\n",
       "    </tr>\n",
       "  </tbody>\n",
       "</table>\n",
       "</div>"
      ],
      "text/plain": [
       "           serving      calorie\n",
       "count  9075.000000  9131.000000\n",
       "mean      8.164408   423.973168\n",
       "std      28.506662   284.912564\n",
       "min       0.000000     0.000000\n",
       "25%       4.000000   260.000000\n",
       "50%       4.000000   385.000000\n",
       "75%       8.000000   544.500000\n",
       "max     850.000000  7865.000000"
      ]
     },
     "execution_count": 3,
     "metadata": {},
     "output_type": "execute_result"
    }
   ],
   "source": [
    "all_data.describe()"
   ]
  },
  {
   "cell_type": "code",
   "execution_count": 14,
   "metadata": {},
   "outputs": [
    {
     "data": {
      "text/plain": [
       "Text(0.5, 1, 'Distrubution of Calories in raw dataset (per serving)')"
      ]
     },
     "execution_count": 14,
     "metadata": {},
     "output_type": "execute_result"
    },
    {
     "data": {
      "text/plain": [
       "<Figure size 720x360 with 0 Axes>"
      ]
     },
     "metadata": {},
     "output_type": "display_data"
    },
    {
     "data": {
      "image/png": "[encoded data removed]",
      "text/plain": [
       "<Figure size 360x360 with 1 Axes>"
      ]
     },
     "metadata": {
      "image/png": {
       "height": 371,
       "width": 365
      },
      "needs_background": "light"
     },
     "output_type": "display_data"
    }
   ],
   "source": [
    "plt.figure(figsize=(10,5))\n",
    "sns.displot(all_data['calorie'], bins = 15)\n",
    "#plt.bar(appliances, height=10)\n",
    "\n",
    "plt.xlabel('Calories', fontsize = 14)\n",
    "plt.ylabel('Counts', fontsize = 14)\n",
    "plt.title('Distrubution of Calories in raw dataset (per serving)', y=1)\n",
    "#plt.grid()"
   ]
  },
  {
   "cell_type": "code",
   "execution_count": 23,
   "metadata": {},
   "outputs": [
    {
     "data": {
      "text/html": [
       "<div>\n",
       "<style scoped>\n",
       "    .dataframe tbody tr th:only-of-type {\n",
       "        vertical-align: middle;\n",
       "    }\n",
       "\n",
       "    .dataframe tbody tr th {\n",
       "        vertical-align: top;\n",
       "    }\n",
       "\n",
       "    .dataframe thead th {\n",
       "        text-align: right;\n",
       "    }\n",
       "</style>\n",
       "<table border=\"1\" class=\"dataframe\">\n",
       "  <thead>\n",
       "    <tr style=\"text-align: right;\">\n",
       "      <th></th>\n",
       "      <th>title</th>\n",
       "      <th>image</th>\n",
       "      <th>ingredients</th>\n",
       "      <th>nutrients</th>\n",
       "      <th>file_name</th>\n",
       "      <th>category</th>\n",
       "      <th>serving</th>\n",
       "      <th>url</th>\n",
       "      <th>source</th>\n",
       "      <th>calorie</th>\n",
       "      <th>calorie_per_recipe</th>\n",
       "    </tr>\n",
       "  </thead>\n",
       "  <tbody>\n",
       "    <tr>\n",
       "      <th>6124</th>\n",
       "      <td>Shrimp Pasta with White Wine Sauce</td>\n",
       "      <td>https://cdn.apartmenttherapy.info/image/fetch/...</td>\n",
       "      <td>['1 pound peeled and cooked medium shrimp (70 ...</td>\n",
       "      <td>{'Calories ': '7865', 'Fat ': '120.6 g (185.5%...</td>\n",
       "      <td>kitchen_pasta81.jpg</td>\n",
       "      <td>pasta</td>\n",
       "      <td>4.0</td>\n",
       "      <td>NaN</td>\n",
       "      <td>kitchen</td>\n",
       "      <td>7865</td>\n",
       "      <td>31460.0</td>\n",
       "    </tr>\n",
       "  </tbody>\n",
       "</table>\n",
       "</div>"
      ],
      "text/plain": [
       "                                   title  \\\n",
       "6124  Shrimp Pasta with White Wine Sauce   \n",
       "\n",
       "                                                  image  \\\n",
       "6124  https://cdn.apartmenttherapy.info/image/fetch/...   \n",
       "\n",
       "                                            ingredients  \\\n",
       "6124  ['1 pound peeled and cooked medium shrimp (70 ...   \n",
       "\n",
       "                                              nutrients            file_name  \\\n",
       "6124  {'Calories ': '7865', 'Fat ': '120.6 g (185.5%...  kitchen_pasta81.jpg   \n",
       "\n",
       "     category  serving  url   source  calorie  calorie_per_recipe  \n",
       "6124    pasta      4.0  NaN  kitchen     7865             31460.0  "
      ]
     },
     "execution_count": 23,
     "metadata": {},
     "output_type": "execute_result"
    }
   ],
   "source": [
    "all_data[6124:6125]"
   ]
  },
  {
   "cell_type": "markdown",
   "metadata": {},
   "source": [
    "## Per serving"
   ]
  },
  {
   "cell_type": "markdown",
   "metadata": {},
   "source": [
    "## remove outliers\n",
    "Since nutritional information is provided by the website/user, they are not that trustworthy. In fact, there are some calorie values which are obviously wrong, such as 1000+cal per serving or 0cal per serving. So, these outliers should be removed iteratively based on mean and standard deviation values."
   ]
  },
  {
   "cell_type": "code",
   "execution_count": null,
   "metadata": {},
   "outputs": [],
   "source": [
    "# remove outliers iteratively until convergence\n",
    "\n",
    "def remove_outliers(csv_file):\n",
    "    \n",
    "    mean = csv_file['calorie'].mean()\n",
    "    std = csv_file['calorie'].std()\n",
    "\n",
    "    # delete those outside (mean±2*std)\n",
    "    csv_file = csv_file.drop(csv_file[csv_file['calorie']>mean+2*std].index)\n",
    "    csv_file = csv_file.drop(csv_file[csv_file['calorie']<mean-2*std].index)\n",
    "    print(len(csv_file))\n",
    "    return csv_file\n",
    "\n",
    "\n",
    "last_len = 0\n",
    "\n",
    "while last_len!=len(all_data):\n",
    "    last_len = len(all_data)\n",
    "    all_data = remove_outliers(all_data)\n",
    "    \n",
    "\n",
    "    all_data.to_csv('./data/all_data.csv', index=False)\n",
    "all_data.describe()"
   ]
  },
  {
   "cell_type": "markdown",
   "metadata": {},
   "source": [
    "### Find those NoneType images manually \n",
    "These images could be png or gif, or the scraper fails at finding the correct image."
   ]
  },
  {
   "cell_type": "code",
   "execution_count": null,
   "metadata": {},
   "outputs": [],
   "source": [
    "all_data = pd.read_csv('./data/all_data.csv')\n",
    "len(all_data)"
   ]
  },
  {
   "cell_type": "code",
   "execution_count": null,
   "metadata": {},
   "outputs": [],
   "source": [
    "# sort image name by number\n",
    "def sort_key(s):\n",
    "    try:\n",
    "        c = re.findall('\\d+', s)[0]\n",
    "    except:\n",
    "        c = -1\n",
    "    return int(c)\n",
    "\n",
    "\n",
    "def find_not_jpg_pics(path):\n",
    "    wrong_index_list = []\n",
    "    for path, subpath, files in os.walk(path):\n",
    "        files.sort(key=sort_key)\n",
    "        for i in files:\n",
    "            if i.endswith(\"jpg\") or i.endswith(\"png\") or i.endswith(\"jp2\"):\n",
    "                try:\n",
    "                    img = Image.open(path + \"/\" +i)\n",
    "                except:\n",
    "                    wrong_index_list.append(i)\n",
    "    \n",
    "    return wrong_index_list\n",
    "\n",
    "\n",
    "wrong_index_list = find_not_jpg_pics('./data/all_data/')\n",
    "wrong_index_list"
   ]
  },
  {
   "cell_type": "markdown",
   "metadata": {},
   "source": [
    "#### go to websites to check if there are correct images of these indexes and download manually\n",
    "7 images are found in this case"
   ]
  },
  {
   "cell_type": "code",
   "execution_count": null,
   "metadata": {},
   "outputs": [],
   "source": [
    "# change the .jpg to .jp2\n",
    "def correct_gif_images(csv_file, src_path, dst_path):\n",
    "    name_list = list(csv_file['file_name'])\n",
    "    names = os.listdir(src_path)\n",
    "    for name in names:\n",
    "        if name.endswith('jp2'):\n",
    "            file_name = name[:-4]+'.jpg'\n",
    "            try:\n",
    "                os.remove(dst_path + file_name)\n",
    "                shutil.copy(src_path+name, dst_path+name)\n",
    "            except:\n",
    "                pass\n",
    "            index = name_list.index(file_name)\n",
    "            csv_file['file_name'][index] = name\n",
    "    \n",
    "    return csv_file\n",
    "\n",
    "\n",
    "all_data = correct_gif_images(all_data, './correct_image/', './data/all_data/')\n"
   ]
  },
  {
   "cell_type": "code",
   "execution_count": null,
   "metadata": {},
   "outputs": [],
   "source": [
    "def remove_record_without_image(csv_file, index_list, path):\n",
    "    # no replacement is found and cannot open\n",
    "    for name in index_list:\n",
    "        name_list = list(csv_file['file_name'])\n",
    "        index = name_list.index(name)\n",
    "        csv_file = csv_file.drop(index)\n",
    "        print(len(csv_file))\n",
    "        os.remove(path + name)\n",
    "        \n",
    "    # image link ends with None\n",
    "    drop_list = []\n",
    "    for i, v in enumerate(csv_file['image']):\n",
    "        if v.endswith('None'):\n",
    "            drop_list.append(i)\n",
    "    csv_file = csv_file.drop(drop_list)\n",
    "    print(len(csv_file))\n",
    "    \n",
    "    return csv_file\n",
    "\n",
    "all_data = remove_record_without_image(all_data, wrong_index_list, './data/all_data/')\n",
    "all_data.to_csv('./data/all_data_clean.csv', index=False)"
   ]
  },
  {
   "cell_type": "markdown",
   "metadata": {},
   "source": [
    "### Split into 85% training set and 15% test set "
   ]
  },
  {
   "cell_type": "code",
   "execution_count": 2,
   "metadata": {},
   "outputs": [],
   "source": [
    "all_data = pd.read_csv('./data/all_data_clean.csv')\n",
    "\n",
    "all_data[:round(len(all_data)*0.85)].to_csv('./data/per_serving/train_clean.csv', index=False)\n",
    "all_data[round(len(all_data)*0.85):].to_csv('./data/per_serving/test_clean.csv', index=False)"
   ]
  },
  {
   "cell_type": "code",
   "execution_count": 3,
   "metadata": {},
   "outputs": [
    {
     "data": {
      "text/html": [
       "<div>\n",
       "<style scoped>\n",
       "    .dataframe tbody tr th:only-of-type {\n",
       "        vertical-align: middle;\n",
       "    }\n",
       "\n",
       "    .dataframe tbody tr th {\n",
       "        vertical-align: top;\n",
       "    }\n",
       "\n",
       "    .dataframe thead th {\n",
       "        text-align: right;\n",
       "    }\n",
       "</style>\n",
       "<table border=\"1\" class=\"dataframe\">\n",
       "  <thead>\n",
       "    <tr style=\"text-align: right;\">\n",
       "      <th></th>\n",
       "      <th>serving</th>\n",
       "      <th>calorie</th>\n",
       "    </tr>\n",
       "  </thead>\n",
       "  <tbody>\n",
       "    <tr>\n",
       "      <th>count</th>\n",
       "      <td>7602.000000</td>\n",
       "      <td>7648.000000</td>\n",
       "    </tr>\n",
       "    <tr>\n",
       "      <th>mean</th>\n",
       "      <td>7.500000</td>\n",
       "      <td>361.438808</td>\n",
       "    </tr>\n",
       "    <tr>\n",
       "      <th>std</th>\n",
       "      <td>20.765873</td>\n",
       "      <td>144.304508</td>\n",
       "    </tr>\n",
       "    <tr>\n",
       "      <th>min</th>\n",
       "      <td>0.000000</td>\n",
       "      <td>73.000000</td>\n",
       "    </tr>\n",
       "    <tr>\n",
       "      <th>25%</th>\n",
       "      <td>4.000000</td>\n",
       "      <td>252.000000</td>\n",
       "    </tr>\n",
       "    <tr>\n",
       "      <th>50%</th>\n",
       "      <td>4.000000</td>\n",
       "      <td>349.000000</td>\n",
       "    </tr>\n",
       "    <tr>\n",
       "      <th>75%</th>\n",
       "      <td>8.000000</td>\n",
       "      <td>475.000000</td>\n",
       "    </tr>\n",
       "    <tr>\n",
       "      <th>max</th>\n",
       "      <td>850.000000</td>\n",
       "      <td>650.000000</td>\n",
       "    </tr>\n",
       "  </tbody>\n",
       "</table>\n",
       "</div>"
      ],
      "text/plain": [
       "           serving      calorie\n",
       "count  7602.000000  7648.000000\n",
       "mean      7.500000   361.438808\n",
       "std      20.765873   144.304508\n",
       "min       0.000000    73.000000\n",
       "25%       4.000000   252.000000\n",
       "50%       4.000000   349.000000\n",
       "75%       8.000000   475.000000\n",
       "max     850.000000   650.000000"
      ]
     },
     "execution_count": 3,
     "metadata": {},
     "output_type": "execute_result"
    }
   ],
   "source": [
    "all_data.describe()"
   ]
  },
  {
   "cell_type": "code",
   "execution_count": null,
   "metadata": {},
   "outputs": [],
   "source": [
    "train = pd.read_csv('./data/per_serving/train_clean.csv')\n",
    "for name in train['file_name']:\n",
    "    try:\n",
    "        shutil.move('./data/all_data/'+name, './data/per_serving/train/'+name)\n",
    "    except:\n",
    "        print(name)\n",
    "    \n",
    "test = pd.read_csv('./data/per_serving/test_clean.csv')\n",
    "for name in test['file_name']:\n",
    "    try:\n",
    "        shutil.move('./data/all_data/'+name, './data/per_serving/test/'+name)\n",
    "    except:\n",
    "        print(name)"
   ]
  },
  {
   "cell_type": "code",
   "execution_count": null,
   "metadata": {},
   "outputs": [],
   "source": []
  },
  {
   "cell_type": "code",
   "execution_count": null,
   "metadata": {},
   "outputs": [],
   "source": []
  },
  {
   "cell_type": "code",
   "execution_count": null,
   "metadata": {},
   "outputs": [],
   "source": []
  },
  {
   "cell_type": "markdown",
   "metadata": {},
   "source": [
    "## Per recipe"
   ]
  },
  {
   "cell_type": "code",
   "execution_count": 5,
   "metadata": {},
   "outputs": [
    {
     "name": "stdout",
     "output_type": "stream",
     "text": [
      "9131\n"
     ]
    },
    {
     "data": {
      "text/html": [
       "<div>\n",
       "<style scoped>\n",
       "    .dataframe tbody tr th:only-of-type {\n",
       "        vertical-align: middle;\n",
       "    }\n",
       "\n",
       "    .dataframe tbody tr th {\n",
       "        vertical-align: top;\n",
       "    }\n",
       "\n",
       "    .dataframe thead th {\n",
       "        text-align: right;\n",
       "    }\n",
       "</style>\n",
       "<table border=\"1\" class=\"dataframe\">\n",
       "  <thead>\n",
       "    <tr style=\"text-align: right;\">\n",
       "      <th></th>\n",
       "      <th>serving</th>\n",
       "      <th>calorie</th>\n",
       "    </tr>\n",
       "  </thead>\n",
       "  <tbody>\n",
       "    <tr>\n",
       "      <th>count</th>\n",
       "      <td>9075.000000</td>\n",
       "      <td>9131.000000</td>\n",
       "    </tr>\n",
       "    <tr>\n",
       "      <th>mean</th>\n",
       "      <td>8.164408</td>\n",
       "      <td>423.973168</td>\n",
       "    </tr>\n",
       "    <tr>\n",
       "      <th>std</th>\n",
       "      <td>28.506662</td>\n",
       "      <td>284.912564</td>\n",
       "    </tr>\n",
       "    <tr>\n",
       "      <th>min</th>\n",
       "      <td>0.000000</td>\n",
       "      <td>0.000000</td>\n",
       "    </tr>\n",
       "    <tr>\n",
       "      <th>25%</th>\n",
       "      <td>4.000000</td>\n",
       "      <td>260.000000</td>\n",
       "    </tr>\n",
       "    <tr>\n",
       "      <th>50%</th>\n",
       "      <td>4.000000</td>\n",
       "      <td>385.000000</td>\n",
       "    </tr>\n",
       "    <tr>\n",
       "      <th>75%</th>\n",
       "      <td>8.000000</td>\n",
       "      <td>544.500000</td>\n",
       "    </tr>\n",
       "    <tr>\n",
       "      <th>max</th>\n",
       "      <td>850.000000</td>\n",
       "      <td>7865.000000</td>\n",
       "    </tr>\n",
       "  </tbody>\n",
       "</table>\n",
       "</div>"
      ],
      "text/plain": [
       "           serving      calorie\n",
       "count  9075.000000  9131.000000\n",
       "mean      8.164408   423.973168\n",
       "std      28.506662   284.912564\n",
       "min       0.000000     0.000000\n",
       "25%       4.000000   260.000000\n",
       "50%       4.000000   385.000000\n",
       "75%       8.000000   544.500000\n",
       "max     850.000000  7865.000000"
      ]
     },
     "execution_count": 5,
     "metadata": {},
     "output_type": "execute_result"
    }
   ],
   "source": [
    "all_data = pd.read_csv('./data/train.csv').append(pd.read_csv('./data/test.csv'))\n",
    "all_data.to_csv('./data/all_data_per_recipe.csv', index=False)\n",
    "all_data = pd.read_csv('./data/all_data_per_recipe.csv')\n",
    "print(len(all_data))\n",
    "all_data.describe()"
   ]
  },
  {
   "cell_type": "code",
   "execution_count": 15,
   "metadata": {},
   "outputs": [
    {
     "data": {
      "text/plain": [
       "Text(0.5, 1, 'Distrubution of Calories in raw dataset (per recipe)')"
      ]
     },
     "execution_count": 15,
     "metadata": {},
     "output_type": "execute_result"
    },
    {
     "data": {
      "text/plain": [
       "<Figure size 720x360 with 0 Axes>"
      ]
     },
     "metadata": {},
     "output_type": "display_data"
    },
    {
     "data": {
      "image/png": "[encoded data removed]",
      "text/plain": [
       "<Figure size 360x360 with 1 Axes>"
      ]
     },
     "metadata": {
      "image/png": {
       "height": 370,
       "width": 364
      },
      "needs_background": "light"
     },
     "output_type": "display_data"
    }
   ],
   "source": [
    "all_data['calorie_per_recipe'] = all_data['serving']*all_data['calorie']\n",
    "all_data.describe()\n",
    "\n",
    "plt.figure(figsize=(10,5))\n",
    "sns.displot(all_data['calorie_per_recipe'], bins = 15)\n",
    "#plt.bar(appliances, height=10)\n",
    "\n",
    "plt.xlabel('Calories per recipe', fontsize = 14)\n",
    "plt.ylabel('Counts', fontsize = 14)\n",
    "plt.title('Distrubution of Calories in raw dataset (per recipe)', y=1)\n",
    "#plt.grid()"
   ]
  },
  {
   "cell_type": "markdown",
   "metadata": {},
   "source": [
    "### clean serving information"
   ]
  },
  {
   "cell_type": "code",
   "execution_count": null,
   "metadata": {},
   "outputs": [],
   "source": [
    "# delete rows without serving information\n",
    "no_serving_information = list(all_data['serving'][all_data['serving'].isnull()].index)\n",
    "all_data = all_data.drop(no_serving_information)\n",
    "print(len(all_data))\n",
    "\n",
    "# delete rows with serving>30\n",
    "high_serving = list(all_data['serving'][all_data['serving']>30].index)\n",
    "all_data = all_data.drop(high_serving)\n",
    "print(len(all_data))\n",
    "\n",
    "# delete rows with serving==0\n",
    "no_serving = list(all_data['serving'][all_data['serving']==0].index)\n",
    "all_data = all_data.drop(no_serving)\n",
    "print(len(all_data))\n",
    "#pd.DataFrame(all_data['title'][list(all_data['serving'][all_data['serving']>30].index)]).join(pd.DataFrame(all_data['url'][list(all_data['url'][all_data['serving']>30].index)]))"
   ]
  },
  {
   "cell_type": "code",
   "execution_count": 24,
   "metadata": {},
   "outputs": [
    {
     "data": {
      "text/html": [
       "<div>\n",
       "<style scoped>\n",
       "    .dataframe tbody tr th:only-of-type {\n",
       "        vertical-align: middle;\n",
       "    }\n",
       "\n",
       "    .dataframe tbody tr th {\n",
       "        vertical-align: top;\n",
       "    }\n",
       "\n",
       "    .dataframe thead th {\n",
       "        text-align: right;\n",
       "    }\n",
       "</style>\n",
       "<table border=\"1\" class=\"dataframe\">\n",
       "  <thead>\n",
       "    <tr style=\"text-align: right;\">\n",
       "      <th></th>\n",
       "      <th>serving</th>\n",
       "      <th>calorie</th>\n",
       "      <th>calorie_per_recipe</th>\n",
       "    </tr>\n",
       "  </thead>\n",
       "  <tbody>\n",
       "    <tr>\n",
       "      <th>count</th>\n",
       "      <td>9075.000000</td>\n",
       "      <td>9131.000000</td>\n",
       "      <td>9075.000000</td>\n",
       "    </tr>\n",
       "    <tr>\n",
       "      <th>mean</th>\n",
       "      <td>8.164408</td>\n",
       "      <td>423.973168</td>\n",
       "      <td>2701.868099</td>\n",
       "    </tr>\n",
       "    <tr>\n",
       "      <th>std</th>\n",
       "      <td>28.506662</td>\n",
       "      <td>284.912564</td>\n",
       "      <td>4641.926437</td>\n",
       "    </tr>\n",
       "    <tr>\n",
       "      <th>min</th>\n",
       "      <td>0.000000</td>\n",
       "      <td>0.000000</td>\n",
       "      <td>0.000000</td>\n",
       "    </tr>\n",
       "    <tr>\n",
       "      <th>25%</th>\n",
       "      <td>4.000000</td>\n",
       "      <td>260.000000</td>\n",
       "      <td>1050.000000</td>\n",
       "    </tr>\n",
       "    <tr>\n",
       "      <th>50%</th>\n",
       "      <td>4.000000</td>\n",
       "      <td>385.000000</td>\n",
       "      <td>1878.000000</td>\n",
       "    </tr>\n",
       "    <tr>\n",
       "      <th>75%</th>\n",
       "      <td>8.000000</td>\n",
       "      <td>544.500000</td>\n",
       "      <td>3200.000000</td>\n",
       "    </tr>\n",
       "    <tr>\n",
       "      <th>max</th>\n",
       "      <td>850.000000</td>\n",
       "      <td>7865.000000</td>\n",
       "      <td>278800.000000</td>\n",
       "    </tr>\n",
       "  </tbody>\n",
       "</table>\n",
       "</div>"
      ],
      "text/plain": [
       "           serving      calorie  calorie_per_recipe\n",
       "count  9075.000000  9131.000000         9075.000000\n",
       "mean      8.164408   423.973168         2701.868099\n",
       "std      28.506662   284.912564         4641.926437\n",
       "min       0.000000     0.000000            0.000000\n",
       "25%       4.000000   260.000000         1050.000000\n",
       "50%       4.000000   385.000000         1878.000000\n",
       "75%       8.000000   544.500000         3200.000000\n",
       "max     850.000000  7865.000000       278800.000000"
      ]
     },
     "execution_count": 24,
     "metadata": {},
     "output_type": "execute_result"
    }
   ],
   "source": [
    "all_data['calorie_per_recipe'] = all_data['serving']*all_data['calorie']\n",
    "#all_data.head()\n",
    "all_data.describe()"
   ]
  },
  {
   "cell_type": "code",
   "execution_count": null,
   "metadata": {},
   "outputs": [],
   "source": [
    "def remove_outliers(csv_file):\n",
    "    mean = csv_file['calorie_per_recipe'].mean()\n",
    "    std = csv_file['calorie_per_recipe'].std()\n",
    "\n",
    "    csv_file = csv_file.drop(csv_file[csv_file['calorie_per_recipe']>mean+2*std].index)\n",
    "    csv_file = csv_file.drop(csv_file[csv_file['calorie_per_recipe']<mean-2*std].index)\n",
    "    print(len(csv_file))\n",
    "    return csv_file\n",
    "\n",
    "\n",
    "last_len = 0\n",
    "while last_len!=len(all_data):\n",
    "    last_len = len(all_data)\n",
    "    all_data = remove_outliers(all_data)\n",
    "\n",
    "    \n",
    "all_data.to_csv('./data/per_recipe/all_data_per_recipe_clean.csv', index=False)\n",
    "all_data.describe()"
   ]
  },
  {
   "cell_type": "markdown",
   "metadata": {},
   "source": [
    "### change jpg to jp2 of some pics"
   ]
  },
  {
   "cell_type": "code",
   "execution_count": null,
   "metadata": {},
   "outputs": [],
   "source": [
    "all_data = pd.read_csv('./data/per_recipe/all_data_per_recipe_clean.csv')\n",
    "print(len(all_data))"
   ]
  },
  {
   "cell_type": "code",
   "execution_count": null,
   "metadata": {},
   "outputs": [],
   "source": [
    "def correct_gif_images(csv_file, src_path, dst_path):\n",
    "    name_list = list(csv_file['file_name'])\n",
    "    names = os.listdir(src_path)\n",
    "    for name in names:\n",
    "        if name.endswith('jp2'):\n",
    "            file_name = name[:-4]+'.jpg'\n",
    "            try:\n",
    "                os.remove(dst_path + file_name)\n",
    "                shutil.copy(src_path+name, dst_path+name)\n",
    "            except:\n",
    "                pass\n",
    "            try:\n",
    "                index = name_list.index(file_name)\n",
    "                csv_file['file_name'][index] = name\n",
    "            except:\n",
    "                pass\n",
    "    return csv_file\n",
    "\n",
    "\n",
    "def remove_record_without_image(csv_file, path):\n",
    "    drop_list = []\n",
    "    for i, v in enumerate(csv_file['image']):\n",
    "        if v.endswith('None'):\n",
    "            drop_list.append(i)\n",
    "    csv_file = csv_file.drop(drop_list)\n",
    "    print(len(csv_file))\n",
    "    \n",
    "    return csv_file\n",
    "\n",
    "\n",
    "all_data = correct_gif_images(all_data, './correct_image/', './data/all_data/')\n",
    "all_data = remove_record_without_image(all_data, './data/all_data/')\n",
    "all_data.to_csv('./data/per_recipe/all_data_per_recipe_clean.csv', index=False)"
   ]
  },
  {
   "cell_type": "markdown",
   "metadata": {},
   "source": [
    "### Split into 85% training set and 15% test set "
   ]
  },
  {
   "cell_type": "code",
   "execution_count": null,
   "metadata": {},
   "outputs": [],
   "source": [
    "all_data = pd.read_csv('./data/per_recipe/all_data_per_recipe_clean.csv')\n",
    "print(len(all_data))\n",
    "\n",
    "all_data[:round(len(all_data)*0.85)].to_csv('./data/per_recipe/train_per_recipe_clean.csv', index=False)\n",
    "all_data[round(len(all_data)*0.85):].to_csv('./data/per_recipe/test_per_recipe_clean.csv', index=False)"
   ]
  },
  {
   "cell_type": "code",
   "execution_count": null,
   "metadata": {},
   "outputs": [],
   "source": [
    "train = pd.read_csv('./data/per_recipe/train_per_recipe_clean.csv')\n",
    "for name in train['file_name']:\n",
    "    try:\n",
    "        shutil.copy('./data/all_data/'+name, './data/per_recipe/train/'+name)\n",
    "    except:\n",
    "        print(name)\n",
    "    \n",
    "test = pd.read_csv('./data/per_recipe/test_per_recipe_clean.csv')\n",
    "for name in test['file_name']:\n",
    "    try:\n",
    "        shutil.copy('./data/all_data/'+name, './data/per_recipe/test/'+name)\n",
    "    except:\n",
    "        print(name)\n",
    "    "
   ]
  },
  {
   "cell_type": "code",
   "execution_count": null,
   "metadata": {},
   "outputs": [],
   "source": []
  },
  {
   "cell_type": "code",
   "execution_count": null,
   "metadata": {},
   "outputs": [],
   "source": []
  }
 ],
 "metadata": {
  "kernelspec": {
   "display_name": "Python 3",
   "language": "python",
   "name": "python3"
  },
  "language_info": {
   "codemirror_mode": {
    "name": "ipython",
    "version": 3
   },
   "file_extension": ".py",
   "mimetype": "text/x-python",
   "name": "python",
   "nbconvert_exporter": "python",
   "pygments_lexer": "ipython3",
   "version": "3.8.5"
  }
 },
 "nbformat": 4,
 "nbformat_minor": 4
}
