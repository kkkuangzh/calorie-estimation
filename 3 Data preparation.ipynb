{
 "cells": [
  {
   "cell_type": "markdown",
   "metadata": {},
   "source": [
    "# Preprare multi-task label for training\n",
    "per serving/per recipe\n",
    "\n",
    "Other than calorie, add category vector, nutrient vector, and ingredient vector as targets"
   ]
  },
  {
   "cell_type": "code",
   "execution_count": 1,
   "metadata": {},
   "outputs": [],
   "source": [
    "import pandas as pd\n",
    "import numpy as np\n",
    "import ast\n",
    "import re"
   ]
  },
  {
   "cell_type": "markdown",
   "metadata": {},
   "source": [
    "## Add category vector"
   ]
  },
  {
   "cell_type": "markdown",
   "metadata": {},
   "source": [
    "### Calorie per serving"
   ]
  },
  {
   "cell_type": "code",
   "execution_count": 2,
   "metadata": {},
   "outputs": [
    {
     "name": "stdout",
     "output_type": "stream",
     "text": [
      "6501\n",
      "1147\n"
     ]
    }
   ],
   "source": [
    "train_data = pd.read_csv('./data/per_serving/train_clean.csv')\n",
    "test_data = pd.read_csv('./data/per_serving/test_clean.csv')\n",
    "print(len(train_data))\n",
    "print(len(test_data))"
   ]
  },
  {
   "cell_type": "code",
   "execution_count": 6,
   "metadata": {},
   "outputs": [],
   "source": [
    "def add_category_vector(csv_data):\n",
    "    #categories = list(csv_data['category'].unique())\n",
    "    categories = ['bread', 'burger', 'cake', 'cookies', 'pasta', 'pie', 'pizza', 'rice', 'salad', 'sandwich', 'soup', 'steak']\n",
    "    category_vector = []\n",
    "\n",
    "    for category in csv_data['category']:\n",
    "        temp = [0] * len(categories)\n",
    "        temp[categories.index(category)] = 1\n",
    "        category_vector.append(temp)\n",
    "    \n",
    "    csv_data['category_vector'] = category_vector\n",
    "    \n",
    "    return csv_data"
   ]
  },
  {
   "cell_type": "code",
   "execution_count": 7,
   "metadata": {},
   "outputs": [
    {
     "data": {
      "text/html": [
       "<div>\n",
       "<style scoped>\n",
       "    .dataframe tbody tr th:only-of-type {\n",
       "        vertical-align: middle;\n",
       "    }\n",
       "\n",
       "    .dataframe tbody tr th {\n",
       "        vertical-align: top;\n",
       "    }\n",
       "\n",
       "    .dataframe thead th {\n",
       "        text-align: right;\n",
       "    }\n",
       "</style>\n",
       "<table border=\"1\" class=\"dataframe\">\n",
       "  <thead>\n",
       "    <tr style=\"text-align: right;\">\n",
       "      <th></th>\n",
       "      <th>title</th>\n",
       "      <th>image</th>\n",
       "      <th>ingredients</th>\n",
       "      <th>nutrients</th>\n",
       "      <th>file_name</th>\n",
       "      <th>category</th>\n",
       "      <th>serving</th>\n",
       "      <th>url</th>\n",
       "      <th>source</th>\n",
       "      <th>calorie</th>\n",
       "      <th>category_vector</th>\n",
       "    </tr>\n",
       "  </thead>\n",
       "  <tbody>\n",
       "    <tr>\n",
       "      <th>0</th>\n",
       "      <td>Easy bread rolls</td>\n",
       "      <td>https://images.immediate.co.uk/production/vola...</td>\n",
       "      <td>['500g strong white bread flour , plus extra f...</td>\n",
       "      <td>{'calories': '246 calories', 'fatContent': '2 ...</td>\n",
       "      <td>bread0.jpg</td>\n",
       "      <td>bread</td>\n",
       "      <td>8.0</td>\n",
       "      <td>https://www.bbcgoodfood.com/recipes/Easy-bread...</td>\n",
       "      <td>bbc</td>\n",
       "      <td>246</td>\n",
       "      <td>[1, 0, 0, 0, 0, 0, 0, 0, 0, 0, 0, 0]</td>\n",
       "    </tr>\n",
       "    <tr>\n",
       "      <th>1</th>\n",
       "      <td>Vegan banana bread</td>\n",
       "      <td>https://images.immediate.co.uk/production/vola...</td>\n",
       "      <td>['3 large black bananas', '75ml vegetable oil ...</td>\n",
       "      <td>{'calories': '218 calories', 'fatContent': '8 ...</td>\n",
       "      <td>bread1.jpg</td>\n",
       "      <td>bread</td>\n",
       "      <td>10.0</td>\n",
       "      <td>https://www.bbcgoodfood.com/recipes/Vegan-bana...</td>\n",
       "      <td>bbc</td>\n",
       "      <td>218</td>\n",
       "      <td>[1, 0, 0, 0, 0, 0, 0, 0, 0, 0, 0, 0]</td>\n",
       "    </tr>\n",
       "    <tr>\n",
       "      <th>2</th>\n",
       "      <td>Meatball &amp; garlic bread traybake</td>\n",
       "      <td>https://images.immediate.co.uk/production/vola...</td>\n",
       "      <td>['350g turkey thigh mince', '1 tsp dried orega...</td>\n",
       "      <td>{'calories': '565 calories', 'fatContent': '28...</td>\n",
       "      <td>bread2.jpg</td>\n",
       "      <td>bread</td>\n",
       "      <td>3.0</td>\n",
       "      <td>https://www.bbcgoodfood.com/recipes/Meatball-&amp;...</td>\n",
       "      <td>bbc</td>\n",
       "      <td>565</td>\n",
       "      <td>[1, 0, 0, 0, 0, 0, 0, 0, 0, 0, 0, 0]</td>\n",
       "    </tr>\n",
       "    <tr>\n",
       "      <th>3</th>\n",
       "      <td>Naan bread</td>\n",
       "      <td>https://images.immediate.co.uk/production/vola...</td>\n",
       "      <td>['1x 7g sachet dried yeast', '2 tsp golden cas...</td>\n",
       "      <td>{'calories': '224 calories', 'fatContent': '8 ...</td>\n",
       "      <td>bread3.jpg</td>\n",
       "      <td>bread</td>\n",
       "      <td>8.0</td>\n",
       "      <td>https://www.bbcgoodfood.com/recipes/Naan-bread</td>\n",
       "      <td>bbc</td>\n",
       "      <td>224</td>\n",
       "      <td>[1, 0, 0, 0, 0, 0, 0, 0, 0, 0, 0, 0]</td>\n",
       "    </tr>\n",
       "    <tr>\n",
       "      <th>4</th>\n",
       "      <td>Pitta bread</td>\n",
       "      <td>https://images.immediate.co.uk/production/vola...</td>\n",
       "      <td>['2 tsp fast-action dried yeast', '500g strong...</td>\n",
       "      <td>{'calories': '246 calories', 'fatContent': '2 ...</td>\n",
       "      <td>bread4.jpg</td>\n",
       "      <td>bread</td>\n",
       "      <td>8.0</td>\n",
       "      <td>https://www.bbcgoodfood.com/recipes/Pitta-bread</td>\n",
       "      <td>bbc</td>\n",
       "      <td>246</td>\n",
       "      <td>[1, 0, 0, 0, 0, 0, 0, 0, 0, 0, 0, 0]</td>\n",
       "    </tr>\n",
       "  </tbody>\n",
       "</table>\n",
       "</div>"
      ],
      "text/plain": [
       "                              title  \\\n",
       "0                  Easy bread rolls   \n",
       "1                Vegan banana bread   \n",
       "2  Meatball & garlic bread traybake   \n",
       "3                        Naan bread   \n",
       "4                       Pitta bread   \n",
       "\n",
       "                                               image  \\\n",
       "0  https://images.immediate.co.uk/production/vola...   \n",
       "1  https://images.immediate.co.uk/production/vola...   \n",
       "2  https://images.immediate.co.uk/production/vola...   \n",
       "3  https://images.immediate.co.uk/production/vola...   \n",
       "4  https://images.immediate.co.uk/production/vola...   \n",
       "\n",
       "                                         ingredients  \\\n",
       "0  ['500g strong white bread flour , plus extra f...   \n",
       "1  ['3 large black bananas', '75ml vegetable oil ...   \n",
       "2  ['350g turkey thigh mince', '1 tsp dried orega...   \n",
       "3  ['1x 7g sachet dried yeast', '2 tsp golden cas...   \n",
       "4  ['2 tsp fast-action dried yeast', '500g strong...   \n",
       "\n",
       "                                           nutrients   file_name category  \\\n",
       "0  {'calories': '246 calories', 'fatContent': '2 ...  bread0.jpg    bread   \n",
       "1  {'calories': '218 calories', 'fatContent': '8 ...  bread1.jpg    bread   \n",
       "2  {'calories': '565 calories', 'fatContent': '28...  bread2.jpg    bread   \n",
       "3  {'calories': '224 calories', 'fatContent': '8 ...  bread3.jpg    bread   \n",
       "4  {'calories': '246 calories', 'fatContent': '2 ...  bread4.jpg    bread   \n",
       "\n",
       "   serving                                                url source  calorie  \\\n",
       "0      8.0  https://www.bbcgoodfood.com/recipes/Easy-bread...    bbc      246   \n",
       "1     10.0  https://www.bbcgoodfood.com/recipes/Vegan-bana...    bbc      218   \n",
       "2      3.0  https://www.bbcgoodfood.com/recipes/Meatball-&...    bbc      565   \n",
       "3      8.0     https://www.bbcgoodfood.com/recipes/Naan-bread    bbc      224   \n",
       "4      8.0    https://www.bbcgoodfood.com/recipes/Pitta-bread    bbc      246   \n",
       "\n",
       "                        category_vector  \n",
       "0  [1, 0, 0, 0, 0, 0, 0, 0, 0, 0, 0, 0]  \n",
       "1  [1, 0, 0, 0, 0, 0, 0, 0, 0, 0, 0, 0]  \n",
       "2  [1, 0, 0, 0, 0, 0, 0, 0, 0, 0, 0, 0]  \n",
       "3  [1, 0, 0, 0, 0, 0, 0, 0, 0, 0, 0, 0]  \n",
       "4  [1, 0, 0, 0, 0, 0, 0, 0, 0, 0, 0, 0]  "
      ]
     },
     "execution_count": 7,
     "metadata": {},
     "output_type": "execute_result"
    }
   ],
   "source": [
    "#categories = ['bread', 'burger', 'cake', 'cookies', 'pasta', 'pie', 'pizza', 'rice', 'salad', 'sandwich', 'soup', 'steak']\n",
    "\n",
    "train_data = add_category_vector(train_data)\n",
    "train_data.to_csv('./data/per_serving/train_per_serving_category_vector.csv', index=False)\n",
    "test_data = add_category_vector(test_data)\n",
    "test_data.to_csv('./data/per_serving/test_per_serving_category_vector.csv', index=False)\n",
    "\n",
    "train_data.head()"
   ]
  },
  {
   "cell_type": "code",
   "execution_count": null,
   "metadata": {},
   "outputs": [],
   "source": []
  },
  {
   "cell_type": "code",
   "execution_count": 1,
   "metadata": {},
   "outputs": [],
   "source": [
    "#train_data.groupby(['category', 'source']).count()"
   ]
  },
  {
   "cell_type": "markdown",
   "metadata": {},
   "source": [
    "### Calorie per recipe"
   ]
  },
  {
   "cell_type": "code",
   "execution_count": 11,
   "metadata": {},
   "outputs": [
    {
     "name": "stdout",
     "output_type": "stream",
     "text": [
      "5482\n",
      "967\n"
     ]
    }
   ],
   "source": [
    "train_data = pd.read_csv('./data/per_recipe/train_per_recipe_clean.csv')\n",
    "test_data = pd.read_csv('./data/per_recipe/test_per_recipe_clean.csv')\n",
    "print(len(train_data))\n",
    "print(len(test_data))"
   ]
  },
  {
   "cell_type": "code",
   "execution_count": 12,
   "metadata": {},
   "outputs": [
    {
     "data": {
      "text/html": [
       "<div>\n",
       "<style scoped>\n",
       "    .dataframe tbody tr th:only-of-type {\n",
       "        vertical-align: middle;\n",
       "    }\n",
       "\n",
       "    .dataframe tbody tr th {\n",
       "        vertical-align: top;\n",
       "    }\n",
       "\n",
       "    .dataframe thead th {\n",
       "        text-align: right;\n",
       "    }\n",
       "</style>\n",
       "<table border=\"1\" class=\"dataframe\">\n",
       "  <thead>\n",
       "    <tr style=\"text-align: right;\">\n",
       "      <th></th>\n",
       "      <th>title</th>\n",
       "      <th>image</th>\n",
       "      <th>ingredients</th>\n",
       "      <th>nutrients</th>\n",
       "      <th>file_name</th>\n",
       "      <th>category</th>\n",
       "      <th>serving</th>\n",
       "      <th>url</th>\n",
       "      <th>source</th>\n",
       "      <th>calorie</th>\n",
       "      <th>calorie_per_recipe</th>\n",
       "      <th>category_vector</th>\n",
       "    </tr>\n",
       "  </thead>\n",
       "  <tbody>\n",
       "    <tr>\n",
       "      <th>0</th>\n",
       "      <td>Easy bread rolls</td>\n",
       "      <td>https://images.immediate.co.uk/production/vola...</td>\n",
       "      <td>['500g strong white bread flour , plus extra f...</td>\n",
       "      <td>{'calories': '246 calories', 'fatContent': '2 ...</td>\n",
       "      <td>bread0.jpg</td>\n",
       "      <td>bread</td>\n",
       "      <td>8.0</td>\n",
       "      <td>https://www.bbcgoodfood.com/recipes/Easy-bread...</td>\n",
       "      <td>bbc</td>\n",
       "      <td>246</td>\n",
       "      <td>1968.0</td>\n",
       "      <td>[1, 0, 0, 0, 0, 0, 0, 0, 0, 0, 0, 0]</td>\n",
       "    </tr>\n",
       "    <tr>\n",
       "      <th>1</th>\n",
       "      <td>Vegan banana bread</td>\n",
       "      <td>https://images.immediate.co.uk/production/vola...</td>\n",
       "      <td>['3 large black bananas', '75ml vegetable oil ...</td>\n",
       "      <td>{'calories': '218 calories', 'fatContent': '8 ...</td>\n",
       "      <td>bread1.jpg</td>\n",
       "      <td>bread</td>\n",
       "      <td>10.0</td>\n",
       "      <td>https://www.bbcgoodfood.com/recipes/Vegan-bana...</td>\n",
       "      <td>bbc</td>\n",
       "      <td>218</td>\n",
       "      <td>2180.0</td>\n",
       "      <td>[1, 0, 0, 0, 0, 0, 0, 0, 0, 0, 0, 0]</td>\n",
       "    </tr>\n",
       "    <tr>\n",
       "      <th>2</th>\n",
       "      <td>Meatball &amp; garlic bread traybake</td>\n",
       "      <td>https://images.immediate.co.uk/production/vola...</td>\n",
       "      <td>['350g turkey thigh mince', '1 tsp dried orega...</td>\n",
       "      <td>{'calories': '565 calories', 'fatContent': '28...</td>\n",
       "      <td>bread2.jpg</td>\n",
       "      <td>bread</td>\n",
       "      <td>3.0</td>\n",
       "      <td>https://www.bbcgoodfood.com/recipes/Meatball-&amp;...</td>\n",
       "      <td>bbc</td>\n",
       "      <td>565</td>\n",
       "      <td>1695.0</td>\n",
       "      <td>[1, 0, 0, 0, 0, 0, 0, 0, 0, 0, 0, 0]</td>\n",
       "    </tr>\n",
       "    <tr>\n",
       "      <th>3</th>\n",
       "      <td>Naan bread</td>\n",
       "      <td>https://images.immediate.co.uk/production/vola...</td>\n",
       "      <td>['1x 7g sachet dried yeast', '2 tsp golden cas...</td>\n",
       "      <td>{'calories': '224 calories', 'fatContent': '8 ...</td>\n",
       "      <td>bread3.jpg</td>\n",
       "      <td>bread</td>\n",
       "      <td>8.0</td>\n",
       "      <td>https://www.bbcgoodfood.com/recipes/Naan-bread</td>\n",
       "      <td>bbc</td>\n",
       "      <td>224</td>\n",
       "      <td>1792.0</td>\n",
       "      <td>[1, 0, 0, 0, 0, 0, 0, 0, 0, 0, 0, 0]</td>\n",
       "    </tr>\n",
       "    <tr>\n",
       "      <th>4</th>\n",
       "      <td>Pitta bread</td>\n",
       "      <td>https://images.immediate.co.uk/production/vola...</td>\n",
       "      <td>['2 tsp fast-action dried yeast', '500g strong...</td>\n",
       "      <td>{'calories': '246 calories', 'fatContent': '2 ...</td>\n",
       "      <td>bread4.jpg</td>\n",
       "      <td>bread</td>\n",
       "      <td>8.0</td>\n",
       "      <td>https://www.bbcgoodfood.com/recipes/Pitta-bread</td>\n",
       "      <td>bbc</td>\n",
       "      <td>246</td>\n",
       "      <td>1968.0</td>\n",
       "      <td>[1, 0, 0, 0, 0, 0, 0, 0, 0, 0, 0, 0]</td>\n",
       "    </tr>\n",
       "  </tbody>\n",
       "</table>\n",
       "</div>"
      ],
      "text/plain": [
       "                              title  \\\n",
       "0                  Easy bread rolls   \n",
       "1                Vegan banana bread   \n",
       "2  Meatball & garlic bread traybake   \n",
       "3                        Naan bread   \n",
       "4                       Pitta bread   \n",
       "\n",
       "                                               image  \\\n",
       "0  https://images.immediate.co.uk/production/vola...   \n",
       "1  https://images.immediate.co.uk/production/vola...   \n",
       "2  https://images.immediate.co.uk/production/vola...   \n",
       "3  https://images.immediate.co.uk/production/vola...   \n",
       "4  https://images.immediate.co.uk/production/vola...   \n",
       "\n",
       "                                         ingredients  \\\n",
       "0  ['500g strong white bread flour , plus extra f...   \n",
       "1  ['3 large black bananas', '75ml vegetable oil ...   \n",
       "2  ['350g turkey thigh mince', '1 tsp dried orega...   \n",
       "3  ['1x 7g sachet dried yeast', '2 tsp golden cas...   \n",
       "4  ['2 tsp fast-action dried yeast', '500g strong...   \n",
       "\n",
       "                                           nutrients   file_name category  \\\n",
       "0  {'calories': '246 calories', 'fatContent': '2 ...  bread0.jpg    bread   \n",
       "1  {'calories': '218 calories', 'fatContent': '8 ...  bread1.jpg    bread   \n",
       "2  {'calories': '565 calories', 'fatContent': '28...  bread2.jpg    bread   \n",
       "3  {'calories': '224 calories', 'fatContent': '8 ...  bread3.jpg    bread   \n",
       "4  {'calories': '246 calories', 'fatContent': '2 ...  bread4.jpg    bread   \n",
       "\n",
       "   serving                                                url source  calorie  \\\n",
       "0      8.0  https://www.bbcgoodfood.com/recipes/Easy-bread...    bbc      246   \n",
       "1     10.0  https://www.bbcgoodfood.com/recipes/Vegan-bana...    bbc      218   \n",
       "2      3.0  https://www.bbcgoodfood.com/recipes/Meatball-&...    bbc      565   \n",
       "3      8.0     https://www.bbcgoodfood.com/recipes/Naan-bread    bbc      224   \n",
       "4      8.0    https://www.bbcgoodfood.com/recipes/Pitta-bread    bbc      246   \n",
       "\n",
       "   calorie_per_recipe                       category_vector  \n",
       "0              1968.0  [1, 0, 0, 0, 0, 0, 0, 0, 0, 0, 0, 0]  \n",
       "1              2180.0  [1, 0, 0, 0, 0, 0, 0, 0, 0, 0, 0, 0]  \n",
       "2              1695.0  [1, 0, 0, 0, 0, 0, 0, 0, 0, 0, 0, 0]  \n",
       "3              1792.0  [1, 0, 0, 0, 0, 0, 0, 0, 0, 0, 0, 0]  \n",
       "4              1968.0  [1, 0, 0, 0, 0, 0, 0, 0, 0, 0, 0, 0]  "
      ]
     },
     "execution_count": 12,
     "metadata": {},
     "output_type": "execute_result"
    }
   ],
   "source": [
    "train_data = add_category_vector(train_data)\n",
    "train_data.to_csv('./data/per_recipe/train_per_recipe_category_vector.csv', index=False)\n",
    "test_data = add_category_vector(test_data)\n",
    "test_data.to_csv('./data/per_recipe/test_per_recipe_category_vector.csv', index=False)\n",
    "\n",
    "train_data.head()"
   ]
  },
  {
   "cell_type": "code",
   "execution_count": null,
   "metadata": {},
   "outputs": [],
   "source": [
    "#test_data.groupby(['category', 'source']).count()"
   ]
  },
  {
   "cell_type": "code",
   "execution_count": null,
   "metadata": {},
   "outputs": [],
   "source": [
    "#temp = pd.get_dummies(train_data.category)"
   ]
  },
  {
   "cell_type": "code",
   "execution_count": null,
   "metadata": {},
   "outputs": [],
   "source": []
  },
  {
   "cell_type": "markdown",
   "metadata": {},
   "source": [
    "## Add nutrients vector\n",
    "e.g., {'calories': '737 calories', \n",
    " 'fatContent': '42 grams fat', \n",
    " 'saturatedFatContent': '10 grams saturated fat', \n",
    " 'carbohydrateContent': '49 grams carbohydrates', \n",
    " 'sugarContent': '6 grams sugar', \n",
    " 'fiberContent': '4 grams fiber', \n",
    " 'proteinContent': '39 grams protein', \n",
    " 'sodiumContent': '4.1 milligram of sodium'}"
   ]
  },
  {
   "cell_type": "markdown",
   "metadata": {},
   "source": [
    "### per serving"
   ]
  },
  {
   "cell_type": "code",
   "execution_count": 3,
   "metadata": {},
   "outputs": [
    {
     "name": "stdout",
     "output_type": "stream",
     "text": [
      "6501\n",
      "1147\n"
     ]
    }
   ],
   "source": [
    "train_data = pd.read_csv('./data/per_serving/train_clean.csv')\n",
    "test_data = pd.read_csv('./data/per_serving/test_clean.csv')\n",
    "print(len(train_data))\n",
    "print(len(test_data))"
   ]
  },
  {
   "cell_type": "markdown",
   "metadata": {},
   "source": [
    "#### check the distributions of each nutrient"
   ]
  },
  {
   "cell_type": "code",
   "execution_count": 4,
   "metadata": {},
   "outputs": [],
   "source": [
    "# sequence: ['Fat ', 'Carbs ','Sugars ', 'Fiber ', 'Protein ', 'Sodium ']\n",
    "\n",
    "def split_nutrients(csv_file):\n",
    "    \n",
    "    fats, carbs, sugars, fibers, proteins, sodiums = [], [], [], [], [], []\n",
    "    lists = [fats, carbs, sugars, fibers, proteins, sodiums]\n",
    "    bbc_nutrients = ['fatContent', 'carbohydrateContent',  'sugarContent', 'fiberContent', 'proteinContent', 'sodiumContent']\n",
    "    kitchen_nutrients = ['Fat ', 'Carbs ','Sugars ', 'Fiber ', 'Protein ', 'Sodium ']\n",
    "    \n",
    "    for (i, value) in enumerate(csv_file['nutrients']):\n",
    "        if (csv_file['file_name'][i].startswith('kitchen')) == True:\n",
    "            for temp, nutrient in zip(lists, kitchen_nutrients):\n",
    "                try:\n",
    "                    temp.append(float(re.findall('\\d+(?:\\.\\d+)?', ast.literal_eval(value)[nutrient])[0]))\n",
    "                except:\n",
    "                    temp.append(None)\n",
    "        else:\n",
    "            for temp, nutrient in zip(lists, bbc_nutrients):\n",
    "                try:\n",
    "                    temp.append(float(re.findall('\\d+(?:\\.\\d+)?', ast.literal_eval(value)[nutrient])[0]))                \n",
    "                except:\n",
    "                    temp.append(None)\n",
    "    return lists\n",
    "\n",
    "                    \n",
    "def add_nutrient_columns(csv_file, nutrient_names, lists):\n",
    "    #add new columns: ['Fat ', 'Carbs ','Sugars ', 'Fiber ', 'Protein ', 'Sodium ']\n",
    "    for i, name in enumerate(nutrient_names):\n",
    "        csv_file[name] = lists[i]\n",
    "    \n",
    "    return csv_file\n",
    "    \n",
    "    \n",
    "nutrient_names = ['Fat', 'Carbs','Sugars', 'Fiber', 'Protein', 'Sodium']\n",
    "lists_train = split_nutrients(train_data)\n",
    "lists_test = split_nutrients(test_data)\n",
    "\n",
    "train_data = add_nutrient_columns(train_data, nutrient_names, lists_train)\n",
    "test_data = add_nutrient_columns(test_data, nutrient_names, lists_test)\n"
   ]
  },
  {
   "cell_type": "markdown",
   "metadata": {},
   "source": [
    "### normal values of each nutrient: \n",
    "[carbohydrate, 300g], [protein, 60g], [fat, 65g], [sodium, 2000mg]\n",
    "\n",
    "### Sugar and Fiber are removed as there are more than 200 missing values. Sodium has a very large std (311) and has 70 missing values. Therefore, fat, carbohydrate, and protein are used to form the nutrient vector."
   ]
  },
  {
   "cell_type": "code",
   "execution_count": 5,
   "metadata": {},
   "outputs": [
    {
     "data": {
      "text/html": [
       "<div>\n",
       "<style scoped>\n",
       "    .dataframe tbody tr th:only-of-type {\n",
       "        vertical-align: middle;\n",
       "    }\n",
       "\n",
       "    .dataframe tbody tr th {\n",
       "        vertical-align: top;\n",
       "    }\n",
       "\n",
       "    .dataframe thead th {\n",
       "        text-align: right;\n",
       "    }\n",
       "</style>\n",
       "<table border=\"1\" class=\"dataframe\">\n",
       "  <thead>\n",
       "    <tr style=\"text-align: right;\">\n",
       "      <th></th>\n",
       "      <th>serving</th>\n",
       "      <th>calorie</th>\n",
       "      <th>Fat</th>\n",
       "      <th>Carbs</th>\n",
       "      <th>Sugars</th>\n",
       "      <th>Fiber</th>\n",
       "      <th>Protein</th>\n",
       "      <th>Sodium</th>\n",
       "    </tr>\n",
       "  </thead>\n",
       "  <tbody>\n",
       "    <tr>\n",
       "      <th>count</th>\n",
       "      <td>6462.000000</td>\n",
       "      <td>6501.000000</td>\n",
       "      <td>6477.000000</td>\n",
       "      <td>6484.000000</td>\n",
       "      <td>6248.000000</td>\n",
       "      <td>6294.000000</td>\n",
       "      <td>6490.000000</td>\n",
       "      <td>6426.000000</td>\n",
       "    </tr>\n",
       "    <tr>\n",
       "      <th>mean</th>\n",
       "      <td>7.398638</td>\n",
       "      <td>364.380864</td>\n",
       "      <td>17.626849</td>\n",
       "      <td>36.429503</td>\n",
       "      <td>12.718023</td>\n",
       "      <td>4.128986</td>\n",
       "      <td>15.446995</td>\n",
       "      <td>173.030403</td>\n",
       "    </tr>\n",
       "    <tr>\n",
       "      <th>std</th>\n",
       "      <td>20.922758</td>\n",
       "      <td>143.834833</td>\n",
       "      <td>10.129940</td>\n",
       "      <td>33.023150</td>\n",
       "      <td>13.029156</td>\n",
       "      <td>3.660866</td>\n",
       "      <td>12.136744</td>\n",
       "      <td>311.218851</td>\n",
       "    </tr>\n",
       "    <tr>\n",
       "      <th>min</th>\n",
       "      <td>0.000000</td>\n",
       "      <td>73.000000</td>\n",
       "      <td>0.000000</td>\n",
       "      <td>0.100000</td>\n",
       "      <td>0.000000</td>\n",
       "      <td>0.000000</td>\n",
       "      <td>0.000000</td>\n",
       "      <td>0.010000</td>\n",
       "    </tr>\n",
       "    <tr>\n",
       "      <th>25%</th>\n",
       "      <td>4.000000</td>\n",
       "      <td>255.000000</td>\n",
       "      <td>10.000000</td>\n",
       "      <td>20.000000</td>\n",
       "      <td>4.000000</td>\n",
       "      <td>1.800000</td>\n",
       "      <td>5.400000</td>\n",
       "      <td>0.600000</td>\n",
       "    </tr>\n",
       "    <tr>\n",
       "      <th>50%</th>\n",
       "      <td>4.000000</td>\n",
       "      <td>353.000000</td>\n",
       "      <td>16.000000</td>\n",
       "      <td>34.500000</td>\n",
       "      <td>8.000000</td>\n",
       "      <td>3.000000</td>\n",
       "      <td>12.000000</td>\n",
       "      <td>1.700000</td>\n",
       "    </tr>\n",
       "    <tr>\n",
       "      <th>75%</th>\n",
       "      <td>8.000000</td>\n",
       "      <td>478.000000</td>\n",
       "      <td>24.000000</td>\n",
       "      <td>50.000000</td>\n",
       "      <td>17.000000</td>\n",
       "      <td>5.500000</td>\n",
       "      <td>23.000000</td>\n",
       "      <td>239.500000</td>\n",
       "    </tr>\n",
       "    <tr>\n",
       "      <th>max</th>\n",
       "      <td>850.000000</td>\n",
       "      <td>650.000000</td>\n",
       "      <td>84.000000</td>\n",
       "      <td>2012.000000</td>\n",
       "      <td>96.000000</td>\n",
       "      <td>80.000000</td>\n",
       "      <td>94.700000</td>\n",
       "      <td>4026.600000</td>\n",
       "    </tr>\n",
       "  </tbody>\n",
       "</table>\n",
       "</div>"
      ],
      "text/plain": [
       "           serving      calorie          Fat        Carbs       Sugars  \\\n",
       "count  6462.000000  6501.000000  6477.000000  6484.000000  6248.000000   \n",
       "mean      7.398638   364.380864    17.626849    36.429503    12.718023   \n",
       "std      20.922758   143.834833    10.129940    33.023150    13.029156   \n",
       "min       0.000000    73.000000     0.000000     0.100000     0.000000   \n",
       "25%       4.000000   255.000000    10.000000    20.000000     4.000000   \n",
       "50%       4.000000   353.000000    16.000000    34.500000     8.000000   \n",
       "75%       8.000000   478.000000    24.000000    50.000000    17.000000   \n",
       "max     850.000000   650.000000    84.000000  2012.000000    96.000000   \n",
       "\n",
       "             Fiber      Protein       Sodium  \n",
       "count  6294.000000  6490.000000  6426.000000  \n",
       "mean      4.128986    15.446995   173.030403  \n",
       "std       3.660866    12.136744   311.218851  \n",
       "min       0.000000     0.000000     0.010000  \n",
       "25%       1.800000     5.400000     0.600000  \n",
       "50%       3.000000    12.000000     1.700000  \n",
       "75%       5.500000    23.000000   239.500000  \n",
       "max      80.000000    94.700000  4026.600000  "
      ]
     },
     "execution_count": 5,
     "metadata": {},
     "output_type": "execute_result"
    }
   ],
   "source": [
    "# 正常碳水300g左右，蛋白质60g，钠2000mg，脂肪65g\n",
    "# sugar和fiber因为有太多空缺了就没要；sodium方差太大了，而且也有100个空缺\n",
    "# 只留下fat，carbs和protein\n",
    "# 再把NaN的一些去除\n",
    "\n",
    "train_data.describe()"
   ]
  },
  {
   "cell_type": "code",
   "execution_count": 10,
   "metadata": {},
   "outputs": [
    {
     "data": {
      "text/plain": [
       "3079    https://www.bbcgoodfood.com/recipes/Warm-lenti...\n",
       "Name: url, dtype: object"
      ]
     },
     "execution_count": 10,
     "metadata": {},
     "output_type": "execute_result"
    }
   ],
   "source": [
    "train_data['url'][3079:3080]"
   ]
  },
  {
   "cell_type": "markdown",
   "metadata": {},
   "source": [
    "### start again to extract fat, carbohydrate, and protein to form nutrient vector and remove NaN rows"
   ]
  },
  {
   "cell_type": "code",
   "execution_count": 16,
   "metadata": {},
   "outputs": [
    {
     "name": "stdout",
     "output_type": "stream",
     "text": [
      "6501\n",
      "1147\n"
     ]
    }
   ],
   "source": [
    "train_data = pd.read_csv('./data/per_serving/train_clean.csv')\n",
    "test_data = pd.read_csv('./data/per_serving/test_clean.csv')\n",
    "print(len(train_data))\n",
    "print(len(test_data))"
   ]
  },
  {
   "cell_type": "code",
   "execution_count": 17,
   "metadata": {},
   "outputs": [],
   "source": [
    "def add_nutrient_vector(csv_file):\n",
    "    # extract nutrient vector containing [fat, carbs, protein]\n",
    "    \n",
    "    nutrient_vectors = []\n",
    "    drop_list = []\n",
    "    \n",
    "    for (i, value) in enumerate(csv_file['nutrients']):\n",
    "        nutrient_vector = []\n",
    "        nutrients = ast.literal_eval(value)\n",
    "        \n",
    "        if (csv_file['file_name'][i].startswith('kitchen')) == True:\n",
    "            try:\n",
    "                nutrient_vector.append(float(re.findall('\\d+(?:\\.\\d+)?', nutrients['Fat '])[0]))\n",
    "                nutrient_vector.append(float(re.findall('\\d+(?:\\.\\d+)?', nutrients['Carbs '])[0]))\n",
    "                nutrient_vector.append(float(re.findall('\\d+(?:\\.\\d+)?', nutrients['Protein '])[0]))\n",
    "                nutrient_vectors.append(nutrient_vector)\n",
    "            except:\n",
    "                drop_list.append(i)\n",
    "        else:\n",
    "            try:\n",
    "                nutrient_vector.append(float(re.findall('\\d+(?:\\.\\d+)?', nutrients['fatContent'])[0]))\n",
    "                nutrient_vector.append(float(re.findall('\\d+(?:\\.\\d+)?', nutrients['carbohydrateContent'])[0]))\n",
    "                nutrient_vector.append(float(re.findall('\\d+(?:\\.\\d+)?', nutrients['proteinContent'])[0]))\n",
    "                nutrient_vectors.append(nutrient_vector)\n",
    "            except:\n",
    "                drop_list.append(i)\n",
    "    \n",
    "    csv_file = csv_file.drop(drop_list)\n",
    "    csv_file['nutrient_vector']= nutrient_vectors\n",
    "    \n",
    "    return csv_file"
   ]
  },
  {
   "cell_type": "code",
   "execution_count": 18,
   "metadata": {},
   "outputs": [
    {
     "name": "stdout",
     "output_type": "stream",
     "text": [
      "6457\n",
      "1132\n"
     ]
    }
   ],
   "source": [
    "train_data = add_nutrient_vector(train_data)\n",
    "test_data = add_nutrient_vector(test_data)\n",
    "print(len(train_data))\n",
    "print(len(test_data))\n",
    "train_data.to_csv('./data/per_serving/train_per_serving_nutrient_vector.csv', index=False)\n",
    "test_data.to_csv('./data/per_serving/test_per_serving_nutrient_vector.csv', index=False)"
   ]
  },
  {
   "cell_type": "markdown",
   "metadata": {},
   "source": [
    "### per recipe"
   ]
  },
  {
   "cell_type": "markdown",
   "metadata": {},
   "source": [
    "### multiply serving number by each nutrient"
   ]
  },
  {
   "cell_type": "code",
   "execution_count": 19,
   "metadata": {},
   "outputs": [
    {
     "name": "stdout",
     "output_type": "stream",
     "text": [
      "5482\n",
      "967\n"
     ]
    }
   ],
   "source": [
    "train_data = pd.read_csv('./data/per_recipe/train_per_recipe_clean.csv')\n",
    "test_data = pd.read_csv('./data/per_recipe/test_per_recipe_clean.csv')\n",
    "print(len(train_data))\n",
    "print(len(test_data))"
   ]
  },
  {
   "cell_type": "code",
   "execution_count": 20,
   "metadata": {},
   "outputs": [],
   "source": [
    "def add_nutrient_vector_per_recipe(csv_file):\n",
    "    \n",
    "    nutrient_vectors = []\n",
    "    drop_list = []\n",
    "    \n",
    "    for (i, value) in enumerate(csv_file['nutrients']):\n",
    "        nutrient_vector = []\n",
    "        nutrients = ast.literal_eval(value)\n",
    "        serving = csv_file['serving'][i]\n",
    "        \n",
    "        if (csv_file['file_name'][i].startswith('kitchen')) == True:\n",
    "            try:\n",
    "                nutrient_vector.append(round(float(re.findall('\\d+(?:\\.\\d+)?', nutrients['Fat '])[0])*serving, 2))\n",
    "                nutrient_vector.append(round(float(re.findall('\\d+(?:\\.\\d+)?', nutrients['Carbs '])[0])*serving, 2))\n",
    "                nutrient_vector.append(round(float(re.findall('\\d+(?:\\.\\d+)?', nutrients['Protein '])[0])*serving, 2))\n",
    "                nutrient_vectors.append(nutrient_vector)\n",
    "            except:\n",
    "                drop_list.append(i)\n",
    "        else:\n",
    "            try:\n",
    "                nutrient_vector.append(round(float(re.findall('\\d+(?:\\.\\d+)?', nutrients['fatContent'])[0])*serving, 2))\n",
    "                nutrient_vector.append(round(float(re.findall('\\d+(?:\\.\\d+)?', nutrients['carbohydrateContent'])[0])*serving, 2))\n",
    "                nutrient_vector.append(round(float(re.findall('\\d+(?:\\.\\d+)?', nutrients['proteinContent'])[0])*serving, 2))\n",
    "                nutrient_vectors.append(nutrient_vector)\n",
    "            except:\n",
    "                drop_list.append(i)\n",
    "    \n",
    "    csv_file = csv_file.drop(drop_list)\n",
    "    csv_file['nutrient_vector']= nutrient_vectors\n",
    "    \n",
    "    return csv_file"
   ]
  },
  {
   "cell_type": "code",
   "execution_count": 21,
   "metadata": {},
   "outputs": [
    {
     "name": "stdout",
     "output_type": "stream",
     "text": [
      "5422\n",
      "937\n"
     ]
    }
   ],
   "source": [
    "train_data = add_nutrient_vector_per_recipe(train_data)\n",
    "test_data = add_nutrient_vector_per_recipe(test_data)\n",
    "print(len(train_data))\n",
    "print(len(test_data))\n",
    "train_data.to_csv('./data/per_recipe/train_per_recipe_nutrient_vector.csv', index=False)\n",
    "test_data.to_csv('./data/per_recipe/test_per_recipe_nutrient_vector.csv', index=False)"
   ]
  },
  {
   "cell_type": "code",
   "execution_count": null,
   "metadata": {},
   "outputs": [],
   "source": []
  },
  {
   "cell_type": "markdown",
   "metadata": {},
   "source": [
    "## Add ingredient vector"
   ]
  },
  {
   "cell_type": "markdown",
   "metadata": {},
   "source": [
    "### per serving"
   ]
  },
  {
   "cell_type": "code",
   "execution_count": 3,
   "metadata": {},
   "outputs": [
    {
     "name": "stdout",
     "output_type": "stream",
     "text": [
      "6501\n",
      "1147\n"
     ]
    }
   ],
   "source": [
    "train_data = pd.read_csv('./data/per_serving/train_clean.csv')\n",
    "test_data = pd.read_csv('./data/per_serving/test_clean.csv')\n",
    "print(len(train_data))\n",
    "print(len(test_data))"
   ]
  },
  {
   "cell_type": "code",
   "execution_count": 2,
   "metadata": {},
   "outputs": [
    {
     "name": "stdout",
     "output_type": "stream",
     "text": [
      "6501\n"
     ]
    }
   ],
   "source": [
    "train_data = pd.read_csv('./data/per_serving/train_per_serving_ingredient_vector.csv')\n",
    "print(len(train_data))"
   ]
  },
  {
   "cell_type": "code",
   "execution_count": 31,
   "metadata": {},
   "outputs": [
    {
     "data": {
      "text/html": [
       "<div>\n",
       "<style scoped>\n",
       "    .dataframe tbody tr th:only-of-type {\n",
       "        vertical-align: middle;\n",
       "    }\n",
       "\n",
       "    .dataframe tbody tr th {\n",
       "        vertical-align: top;\n",
       "    }\n",
       "\n",
       "    .dataframe thead th {\n",
       "        text-align: right;\n",
       "    }\n",
       "</style>\n",
       "<table border=\"1\" class=\"dataframe\">\n",
       "  <thead>\n",
       "    <tr style=\"text-align: right;\">\n",
       "      <th></th>\n",
       "      <th>title</th>\n",
       "      <th>image</th>\n",
       "      <th>ingredients</th>\n",
       "      <th>nutrients</th>\n",
       "      <th>file_name</th>\n",
       "      <th>category</th>\n",
       "      <th>serving</th>\n",
       "      <th>url</th>\n",
       "      <th>source</th>\n",
       "      <th>calorie</th>\n",
       "      <th>parsed_ingredients</th>\n",
       "      <th>ingredient_vector</th>\n",
       "    </tr>\n",
       "  </thead>\n",
       "  <tbody>\n",
       "    <tr>\n",
       "      <th>15</th>\n",
       "      <td>Carrot cake monkey bread</td>\n",
       "      <td>https://images.immediate.co.uk/production/vola...</td>\n",
       "      <td>['150ml whole milk', '135g unsalted butter , s...</td>\n",
       "      <td>{'calories': '477 calories', 'fatContent': '18...</td>\n",
       "      <td>bread15.jpg</td>\n",
       "      <td>bread</td>\n",
       "      <td>12.0</td>\n",
       "      <td>https://www.bbcgoodfood.com/recipes/Carrot-cak...</td>\n",
       "      <td>bbc</td>\n",
       "      <td>477</td>\n",
       "      <td>['whole milk', 'unsalted butter', 'bread flour...</td>\n",
       "      <td>[0, 1, 0, 0, 0, 0, 0, 1, 0, 0, 0, 1, 0, 0, 1, ...</td>\n",
       "    </tr>\n",
       "  </tbody>\n",
       "</table>\n",
       "</div>"
      ],
      "text/plain": [
       "                       title  \\\n",
       "15  Carrot cake monkey bread   \n",
       "\n",
       "                                                image  \\\n",
       "15  https://images.immediate.co.uk/production/vola...   \n",
       "\n",
       "                                          ingredients  \\\n",
       "15  ['150ml whole milk', '135g unsalted butter , s...   \n",
       "\n",
       "                                            nutrients    file_name category  \\\n",
       "15  {'calories': '477 calories', 'fatContent': '18...  bread15.jpg    bread   \n",
       "\n",
       "    serving                                                url source  \\\n",
       "15     12.0  https://www.bbcgoodfood.com/recipes/Carrot-cak...    bbc   \n",
       "\n",
       "    calorie                                 parsed_ingredients  \\\n",
       "15      477  ['whole milk', 'unsalted butter', 'bread flour...   \n",
       "\n",
       "                                    ingredient_vector  \n",
       "15  [0, 1, 0, 0, 0, 0, 0, 1, 0, 0, 0, 1, 0, 0, 1, ...  "
      ]
     },
     "execution_count": 31,
     "metadata": {},
     "output_type": "execute_result"
    }
   ],
   "source": [
    "train_data[15:16]"
   ]
  },
  {
   "cell_type": "code",
   "execution_count": 29,
   "metadata": {},
   "outputs": [
    {
     "data": {
      "text/plain": [
       "\"['150ml whole milk', '135g unsalted butter , softened, plus extra for the tin', '550g strong white bread flour , plus extra for dusting', '1 orange , zested', '2 tsp mixed spice', '200g carrots (about 2 large), grated', '7g sachet fast-action dried yeast', '50g golden caster sugar', '2 large eggs , at room temperature', 'oil , for the bowl', '1 tbsp cinnamon', '100g walnuts , toasted and finely chopped', '150g light brown soft sugar', '100g golden marzipan', '½ orange , zested and juiced', '100g icing sugar']\""
      ]
     },
     "execution_count": 29,
     "metadata": {},
     "output_type": "execute_result"
    }
   ],
   "source": [
    "train_data['ingredients'][15]"
   ]
  },
  {
   "cell_type": "code",
   "execution_count": 28,
   "metadata": {},
   "outputs": [
    {
     "data": {
      "text/plain": [
       "\"['whole milk', 'unsalted butter', 'bread flour', 'orange', 'mixed spice', 'carrot', 'fastaction yeast', 'caster sugar', 'egg', 'oil', 'cinnamon', 'walnut', 'soft sugar', 'golden marzipan', ' orange', 'icing sugar']\""
      ]
     },
     "execution_count": 28,
     "metadata": {},
     "output_type": "execute_result"
    }
   ],
   "source": [
    "train_data['parsed_ingredients'][15]"
   ]
  },
  {
   "cell_type": "code",
   "execution_count": 26,
   "metadata": {},
   "outputs": [
    {
     "name": "stdout",
     "output_type": "stream",
     "text": [
      "['rye flour', 'rye starter', 'rye flour', 'fine salt', 'butter']\n",
      "['oil butter', 'ripe banana', 'egg', 'caster sugar', 'natural yogurt', 'plain flour', 'baking powder', 'cardamom pod']\n",
      "['egg', 'milk', 'brown bread', 'butter']\n",
      "['wholemeal flour', 'sea salt', 'bicarbonate soda', 'rosemary optional', 'whole milk', 'lemon', 'tsp honey']\n",
      "['wholemeal flour', 'bicarbonate soda', 'fine salt', 'sugar', 'yogurt buttermilk', 'oat seed']\n",
      "['whole milk', 'unsalted butter', 'bread flour', 'orange', 'mixed spice', 'carrot', 'fastaction yeast', 'caster sugar', 'egg', 'oil', 'cinnamon', 'walnut', 'soft sugar', 'golden marzipan', ' orange', 'icing sugar']\n",
      "['plain flour', 'tsp sugar', 'baking powder', 'stronglyflavoured seed', 'butter', 'natural yogurt', 'oil', 'garlic clove', 'handful coriander']\n",
      "['leftover porridge', 'bread flour', 'caster sugar', 'sea salt', 'yeast', 'handful oat']\n",
      "['sunflower oil', 'selfraising flour', 'ground almond', 'baking powder', 'muscovado sugar', 'date', 'ripe banana', 'soya milk', 'walnut piece']\n",
      "['flour start', 'flour start', 'white flour', 'wholemeal flour', 'fine salt', 'sourdough starter']\n"
     ]
    }
   ],
   "source": [
    "for i in range(10,20):\n",
    "    print(train_data['parsed_ingredients'][i])"
   ]
  },
  {
   "cell_type": "code",
   "execution_count": null,
   "metadata": {},
   "outputs": [],
   "source": []
  },
  {
   "cell_type": "code",
   "execution_count": 54,
   "metadata": {},
   "outputs": [],
   "source": [
    "# parse ingredients\n",
    "\n",
    "def clean_recipe(ingred_list):\n",
    "    cleanedtext = []\n",
    "    ingred_list = ast.literal_eval(ingred_list)\n",
    "    \n",
    "    # loop through each sentence of the whole ingredient list\n",
    "    for ingredient_text in ingred_list:\n",
    "        # Obtain all before first comma\n",
    "        if re.compile('^(.+?)(?=,)').search(ingredient_text) is not None:\n",
    "            ingredient_text = re.compile('^(.+?)(?=,)').search(ingredient_text).group(1)\n",
    "         \n",
    "        # Tokenize ingredient list\n",
    "        tokenized = word_tokenize(ingredient_text)\n",
    "        \n",
    "        # Remove stop words and measurement words\n",
    "        removed_measure = [w for w in tokenized if not w in measure_corpus]\n",
    "        removed_stop = [w for w in removed_measure if not w in stop_words]\n",
    "        \n",
    "        # Filter adjectives and nouns\n",
    "        ingred_words = lambda pos: pos[:2] in ['JJ','NN','NNS']\n",
    "        ingreds = [word.lower() for (word, pos) in pos_tag(removed_stop) if ingred_words(pos)]\n",
    "        \n",
    "        # Convert to singular\n",
    "        ingreds = [p.singular_noun(word) if p.singular_noun(word) else word for word in ingreds]\n",
    "        \n",
    "        # remove special characters (including numbers!)怎么去除 ½, ¼, %等\n",
    "        #cleanedtext = re.sub('[^a-zA-Z]', '', cleanedtext)\n",
    "        ingreds = [re.sub('[^ a-zA-Z]', '', i) for i in ingreds]\n",
    "\n",
    "        cleanedtext.append(ingreds)\n",
    "        \n",
    "    # Set the maximum length for an ingredient to be 2\n",
    "    cleanedtext = [ingreds[-2:] if len(ingreds) > 2 else ingreds for ingreds in cleanedtext]\n",
    "        \n",
    "    return [(' ').join(item) for item in cleanedtext if len(item)>0]\n"
   ]
  },
  {
   "cell_type": "code",
   "execution_count": 55,
   "metadata": {},
   "outputs": [
    {
     "data": {
      "text/html": [
       "<div>\n",
       "<style scoped>\n",
       "    .dataframe tbody tr th:only-of-type {\n",
       "        vertical-align: middle;\n",
       "    }\n",
       "\n",
       "    .dataframe tbody tr th {\n",
       "        vertical-align: top;\n",
       "    }\n",
       "\n",
       "    .dataframe thead th {\n",
       "        text-align: right;\n",
       "    }\n",
       "</style>\n",
       "<table border=\"1\" class=\"dataframe\">\n",
       "  <thead>\n",
       "    <tr style=\"text-align: right;\">\n",
       "      <th></th>\n",
       "      <th>title</th>\n",
       "      <th>image</th>\n",
       "      <th>ingredients</th>\n",
       "      <th>nutrients</th>\n",
       "      <th>file_name</th>\n",
       "      <th>category</th>\n",
       "      <th>serving</th>\n",
       "      <th>url</th>\n",
       "      <th>source</th>\n",
       "      <th>calorie</th>\n",
       "      <th>parsed_ingredients</th>\n",
       "    </tr>\n",
       "  </thead>\n",
       "  <tbody>\n",
       "    <tr>\n",
       "      <th>0</th>\n",
       "      <td>Easy bread rolls</td>\n",
       "      <td>https://images.immediate.co.uk/production/vola...</td>\n",
       "      <td>['500g strong white bread flour , plus extra f...</td>\n",
       "      <td>{'calories': '246 calories', 'fatContent': '2 ...</td>\n",
       "      <td>bread0.jpg</td>\n",
       "      <td>bread</td>\n",
       "      <td>8.0</td>\n",
       "      <td>https://www.bbcgoodfood.com/recipes/Easy-bread...</td>\n",
       "      <td>bbc</td>\n",
       "      <td>246</td>\n",
       "      <td>[bread flour, action yeast, caster sugar, fine...</td>\n",
       "    </tr>\n",
       "    <tr>\n",
       "      <th>1</th>\n",
       "      <td>Vegan banana bread</td>\n",
       "      <td>https://images.immediate.co.uk/production/vola...</td>\n",
       "      <td>['3 large black bananas', '75ml vegetable oil ...</td>\n",
       "      <td>{'calories': '218 calories', 'fatContent': '8 ...</td>\n",
       "      <td>bread1.jpg</td>\n",
       "      <td>bread</td>\n",
       "      <td>10.0</td>\n",
       "      <td>https://www.bbcgoodfood.com/recipes/Vegan-bana...</td>\n",
       "      <td>bbc</td>\n",
       "      <td>218</td>\n",
       "      <td>[black banana, sunflower oil, brown sugar, flo...</td>\n",
       "    </tr>\n",
       "    <tr>\n",
       "      <th>2</th>\n",
       "      <td>Meatball &amp; garlic bread traybake</td>\n",
       "      <td>https://images.immediate.co.uk/production/vola...</td>\n",
       "      <td>['350g turkey thigh mince', '1 tsp dried orega...</td>\n",
       "      <td>{'calories': '565 calories', 'fatContent': '28...</td>\n",
       "      <td>bread2.jpg</td>\n",
       "      <td>bread</td>\n",
       "      <td>3.0</td>\n",
       "      <td>https://www.bbcgoodfood.com/recipes/Meatball-&amp;...</td>\n",
       "      <td>bbc</td>\n",
       "      <td>565</td>\n",
       "      <td>[thigh mince, dried oregano, fennel seed, oliv...</td>\n",
       "    </tr>\n",
       "    <tr>\n",
       "      <th>3</th>\n",
       "      <td>Naan bread</td>\n",
       "      <td>https://images.immediate.co.uk/production/vola...</td>\n",
       "      <td>['1x 7g sachet dried yeast', '2 tsp golden cas...</td>\n",
       "      <td>{'calories': '224 calories', 'fatContent': '8 ...</td>\n",
       "      <td>bread3.jpg</td>\n",
       "      <td>bread</td>\n",
       "      <td>8.0</td>\n",
       "      <td>https://www.bbcgoodfood.com/recipes/Naan-bread</td>\n",
       "      <td>bbc</td>\n",
       "      <td>224</td>\n",
       "      <td>[sachet yeast, caster sugar, bread flour,  pow...</td>\n",
       "    </tr>\n",
       "    <tr>\n",
       "      <th>4</th>\n",
       "      <td>Pitta bread</td>\n",
       "      <td>https://images.immediate.co.uk/production/vola...</td>\n",
       "      <td>['2 tsp fast-action dried yeast', '500g strong...</td>\n",
       "      <td>{'calories': '246 calories', 'fatContent': '2 ...</td>\n",
       "      <td>bread4.jpg</td>\n",
       "      <td>bread</td>\n",
       "      <td>8.0</td>\n",
       "      <td>https://www.bbcgoodfood.com/recipes/Pitta-bread</td>\n",
       "      <td>bbc</td>\n",
       "      <td>246</td>\n",
       "      <td>[fastaction yeast, bread flour, salt, olive oil]</td>\n",
       "    </tr>\n",
       "  </tbody>\n",
       "</table>\n",
       "</div>"
      ],
      "text/plain": [
       "                              title  \\\n",
       "0                  Easy bread rolls   \n",
       "1                Vegan banana bread   \n",
       "2  Meatball & garlic bread traybake   \n",
       "3                        Naan bread   \n",
       "4                       Pitta bread   \n",
       "\n",
       "                                               image  \\\n",
       "0  https://images.immediate.co.uk/production/vola...   \n",
       "1  https://images.immediate.co.uk/production/vola...   \n",
       "2  https://images.immediate.co.uk/production/vola...   \n",
       "3  https://images.immediate.co.uk/production/vola...   \n",
       "4  https://images.immediate.co.uk/production/vola...   \n",
       "\n",
       "                                         ingredients  \\\n",
       "0  ['500g strong white bread flour , plus extra f...   \n",
       "1  ['3 large black bananas', '75ml vegetable oil ...   \n",
       "2  ['350g turkey thigh mince', '1 tsp dried orega...   \n",
       "3  ['1x 7g sachet dried yeast', '2 tsp golden cas...   \n",
       "4  ['2 tsp fast-action dried yeast', '500g strong...   \n",
       "\n",
       "                                           nutrients   file_name category  \\\n",
       "0  {'calories': '246 calories', 'fatContent': '2 ...  bread0.jpg    bread   \n",
       "1  {'calories': '218 calories', 'fatContent': '8 ...  bread1.jpg    bread   \n",
       "2  {'calories': '565 calories', 'fatContent': '28...  bread2.jpg    bread   \n",
       "3  {'calories': '224 calories', 'fatContent': '8 ...  bread3.jpg    bread   \n",
       "4  {'calories': '246 calories', 'fatContent': '2 ...  bread4.jpg    bread   \n",
       "\n",
       "   serving                                                url source  calorie  \\\n",
       "0      8.0  https://www.bbcgoodfood.com/recipes/Easy-bread...    bbc      246   \n",
       "1     10.0  https://www.bbcgoodfood.com/recipes/Vegan-bana...    bbc      218   \n",
       "2      3.0  https://www.bbcgoodfood.com/recipes/Meatball-&...    bbc      565   \n",
       "3      8.0     https://www.bbcgoodfood.com/recipes/Naan-bread    bbc      224   \n",
       "4      8.0    https://www.bbcgoodfood.com/recipes/Pitta-bread    bbc      246   \n",
       "\n",
       "                                  parsed_ingredients  \n",
       "0  [bread flour, action yeast, caster sugar, fine...  \n",
       "1  [black banana, sunflower oil, brown sugar, flo...  \n",
       "2  [thigh mince, dried oregano, fennel seed, oliv...  \n",
       "3  [sachet yeast, caster sugar, bread flour,  pow...  \n",
       "4   [fastaction yeast, bread flour, salt, olive oil]  "
      ]
     },
     "execution_count": 55,
     "metadata": {},
     "output_type": "execute_result"
    }
   ],
   "source": [
    "# extract ingredients from each recipe\n",
    "\n",
    "from nltk import word_tokenize, pos_tag\n",
    "from nltk.corpus import stopwords\n",
    "import re\n",
    "import requests\n",
    "from bs4 import BeautifulSoup\n",
    "import ast\n",
    "import inflect\n",
    "\n",
    "p = inflect.engine()\n",
    "stop_words = set(stopwords.words('english'))\n",
    "\n",
    "page = requests.get('https://www.enchantedlearning.com/wordlist/measurement.shtml')\n",
    "soup = BeautifulSoup(page.content, \"html.parser\")\n",
    "measure_corpus = [tag.text for tag in soup.find_all('div',attrs={'class':'wordlist-item'})]\n",
    "measure_corpus = measure_corpus + [text+'s' for text in measure_corpus] + \\\n",
    "            ['taste','strip', 'strips', 'package', 'packages', 'satchet', 'can', 'cans'\\\n",
    "             'satchets', 'sprigs', 'head', 'bunch', 'small', 'large', 'big', 'medium', 'tbsp', 'g', 'tsp']\n",
    "\n",
    "train_data['parsed_ingredients'] = train_data['ingredients'].apply(clean_recipe)\n",
    "test_data['parsed_ingredients'] = test_data['ingredients'].apply(clean_recipe)\n",
    "train_data.head()"
   ]
  },
  {
   "cell_type": "code",
   "execution_count": 10,
   "metadata": {},
   "outputs": [
    {
     "data": {
      "text/plain": [
       "[('olive oil', 2524),\n",
       " ('egg', 1652),\n",
       " ('kosher salt', 1295),\n",
       " ('garlic clove', 1276),\n",
       " ('butter', 1040)]"
      ]
     },
     "execution_count": 10,
     "metadata": {},
     "output_type": "execute_result"
    }
   ],
   "source": [
    "# count the frequency of each ingredient\n",
    "\n",
    "def find_top_100_ingredients_in_training(csv_file, top_ingredients_number):\n",
    "    dic = {}\n",
    "    top_ingredient = []\n",
    "    \n",
    "    for ingredient in csv_file['parsed_ingredients']:\n",
    "        for item in ingredient:\n",
    "            try:\n",
    "                dic[str(item)] += 1\n",
    "            except:\n",
    "                dic[str(item)] = 1\n",
    "\n",
    "    dic_sorted = sorted(dic.items(),key=lambda item:item[1], reverse=True)\n",
    "\n",
    "    for (i,j) in dic_sorted[:top_ingredients_number]:\n",
    "        top_ingredient.append(i)\n",
    "    \n",
    "    return dic_sorted, top_ingredient\n",
    "        \n",
    "     \n",
    "# store top 100 ingredients as csv file \n",
    "top_ingredients_number = 100\n",
    "dic_sorted, top_ingredient = find_top_100_ingredients_in_training(train_data, top_ingredients_number)\n",
    "pd.DataFrame(dic_sorted[:top_ingredients_number], columns=['ingredient', 'recipe number']).to_csv('./data/per_serving/top_100_ingre_in_training_set.csv', index=False)    \n",
    "dic_sorted[:5]"
   ]
  },
  {
   "cell_type": "code",
   "execution_count": 20,
   "metadata": {},
   "outputs": [
    {
     "data": {
      "text/html": [
       "<div>\n",
       "<style scoped>\n",
       "    .dataframe tbody tr th:only-of-type {\n",
       "        vertical-align: middle;\n",
       "    }\n",
       "\n",
       "    .dataframe tbody tr th {\n",
       "        vertical-align: top;\n",
       "    }\n",
       "\n",
       "    .dataframe thead th {\n",
       "        text-align: right;\n",
       "    }\n",
       "</style>\n",
       "<table border=\"1\" class=\"dataframe\">\n",
       "  <thead>\n",
       "    <tr style=\"text-align: right;\">\n",
       "      <th></th>\n",
       "      <th>title</th>\n",
       "      <th>image</th>\n",
       "      <th>ingredients</th>\n",
       "      <th>nutrients</th>\n",
       "      <th>file_name</th>\n",
       "      <th>category</th>\n",
       "      <th>serving</th>\n",
       "      <th>url</th>\n",
       "      <th>source</th>\n",
       "      <th>calorie</th>\n",
       "      <th>parsed_ingredients</th>\n",
       "      <th>ingredient_vector</th>\n",
       "    </tr>\n",
       "  </thead>\n",
       "  <tbody>\n",
       "    <tr>\n",
       "      <th>0</th>\n",
       "      <td>Easy bread rolls</td>\n",
       "      <td>https://images.immediate.co.uk/production/vola...</td>\n",
       "      <td>['500g strong white bread flour , plus extra f...</td>\n",
       "      <td>{'calories': '246 calories', 'fatContent': '2 ...</td>\n",
       "      <td>bread0.jpg</td>\n",
       "      <td>bread</td>\n",
       "      <td>8.0</td>\n",
       "      <td>https://www.bbcgoodfood.com/recipes/Easy-bread...</td>\n",
       "      <td>bbc</td>\n",
       "      <td>246</td>\n",
       "      <td>[bread flour, action yeast, caster sugar, fine...</td>\n",
       "      <td>[0, 0, 0, 0, 0, 0, 0, 1, 0, 0, 0, 0, 0, 0, 0, ...</td>\n",
       "    </tr>\n",
       "    <tr>\n",
       "      <th>1</th>\n",
       "      <td>Vegan banana bread</td>\n",
       "      <td>https://images.immediate.co.uk/production/vola...</td>\n",
       "      <td>['3 large black bananas', '75ml vegetable oil ...</td>\n",
       "      <td>{'calories': '218 calories', 'fatContent': '8 ...</td>\n",
       "      <td>bread1.jpg</td>\n",
       "      <td>bread</td>\n",
       "      <td>10.0</td>\n",
       "      <td>https://www.bbcgoodfood.com/recipes/Vegan-bana...</td>\n",
       "      <td>bbc</td>\n",
       "      <td>218</td>\n",
       "      <td>[black banana, sunflower oil, brown sugar, pow...</td>\n",
       "      <td>[0, 0, 0, 0, 0, 0, 0, 0, 0, 0, 0, 0, 0, 0, 0, ...</td>\n",
       "    </tr>\n",
       "  </tbody>\n",
       "</table>\n",
       "</div>"
      ],
      "text/plain": [
       "                title                                              image  \\\n",
       "0    Easy bread rolls  https://images.immediate.co.uk/production/vola...   \n",
       "1  Vegan banana bread  https://images.immediate.co.uk/production/vola...   \n",
       "\n",
       "                                         ingredients  \\\n",
       "0  ['500g strong white bread flour , plus extra f...   \n",
       "1  ['3 large black bananas', '75ml vegetable oil ...   \n",
       "\n",
       "                                           nutrients   file_name category  \\\n",
       "0  {'calories': '246 calories', 'fatContent': '2 ...  bread0.jpg    bread   \n",
       "1  {'calories': '218 calories', 'fatContent': '8 ...  bread1.jpg    bread   \n",
       "\n",
       "   serving                                                url source  calorie  \\\n",
       "0      8.0  https://www.bbcgoodfood.com/recipes/Easy-bread...    bbc      246   \n",
       "1     10.0  https://www.bbcgoodfood.com/recipes/Vegan-bana...    bbc      218   \n",
       "\n",
       "                                  parsed_ingredients  \\\n",
       "0  [bread flour, action yeast, caster sugar, fine...   \n",
       "1  [black banana, sunflower oil, brown sugar, pow...   \n",
       "\n",
       "                                   ingredient_vector  \n",
       "0  [0, 0, 0, 0, 0, 0, 0, 1, 0, 0, 0, 0, 0, 0, 0, ...  \n",
       "1  [0, 0, 0, 0, 0, 0, 0, 0, 0, 0, 0, 0, 0, 0, 0, ...  "
      ]
     },
     "execution_count": 20,
     "metadata": {},
     "output_type": "execute_result"
    }
   ],
   "source": [
    "# turn ingredients of each recipe into vector\n",
    "\n",
    "def add_ingredient_vector(csv_file, top_ingredient, top_ingredients_number):\n",
    "    ingre_vectors = []\n",
    "\n",
    "    for parsed_ingres in csv_file['parsed_ingredients']:\n",
    "        ingre_vector = top_ingredients_number * [0]\n",
    "        for ingre in parsed_ingres:\n",
    "            if ingre in top_ingredient:\n",
    "                ingre_vector[top_ingredient.index(ingre)] = 1\n",
    "        ingre_vectors.append(ingre_vector)\n",
    "    csv_file['ingredient_vector'] = ingre_vectors\n",
    "        \n",
    "    return csv_file\n",
    "    \n",
    "    \n",
    "train_data = add_ingredient_vector(train_data, top_ingredient, top_ingredients_number)\n",
    "test_data = add_ingredient_vector(test_data, top_ingredient, top_ingredients_number)\n",
    "\n",
    "train_data.to_csv('./data/per_serving/train_per_serving_ingredient_vector.csv', index=False)\n",
    "test_data.to_csv('./data/per_serving/test_per_serving_ingredient_vector.csv', index=False)\n",
    "train_data[:2]"
   ]
  },
  {
   "cell_type": "code",
   "execution_count": null,
   "metadata": {},
   "outputs": [],
   "source": []
  },
  {
   "cell_type": "markdown",
   "metadata": {},
   "source": [
    "### per recipe"
   ]
  },
  {
   "cell_type": "code",
   "execution_count": 21,
   "metadata": {},
   "outputs": [
    {
     "name": "stdout",
     "output_type": "stream",
     "text": [
      "5482\n",
      "967\n"
     ]
    }
   ],
   "source": [
    "train_data = pd.read_csv('./data/per_recipe/train_per_recipe_clean.csv')\n",
    "test_data = pd.read_csv('./data/per_recipe/test_per_recipe_clean.csv')\n",
    "print(len(train_data))\n",
    "print(len(test_data))"
   ]
  },
  {
   "cell_type": "code",
   "execution_count": 23,
   "metadata": {},
   "outputs": [
    {
     "data": {
      "text/html": [
       "<div>\n",
       "<style scoped>\n",
       "    .dataframe tbody tr th:only-of-type {\n",
       "        vertical-align: middle;\n",
       "    }\n",
       "\n",
       "    .dataframe tbody tr th {\n",
       "        vertical-align: top;\n",
       "    }\n",
       "\n",
       "    .dataframe thead th {\n",
       "        text-align: right;\n",
       "    }\n",
       "</style>\n",
       "<table border=\"1\" class=\"dataframe\">\n",
       "  <thead>\n",
       "    <tr style=\"text-align: right;\">\n",
       "      <th></th>\n",
       "      <th>title</th>\n",
       "      <th>image</th>\n",
       "      <th>ingredients</th>\n",
       "      <th>nutrients</th>\n",
       "      <th>file_name</th>\n",
       "      <th>category</th>\n",
       "      <th>serving</th>\n",
       "      <th>url</th>\n",
       "      <th>source</th>\n",
       "      <th>calorie</th>\n",
       "      <th>calorie_per_recipe</th>\n",
       "      <th>parsed_ingredients</th>\n",
       "    </tr>\n",
       "  </thead>\n",
       "  <tbody>\n",
       "    <tr>\n",
       "      <th>0</th>\n",
       "      <td>Easy bread rolls</td>\n",
       "      <td>https://images.immediate.co.uk/production/vola...</td>\n",
       "      <td>['500g strong white bread flour , plus extra f...</td>\n",
       "      <td>{'calories': '246 calories', 'fatContent': '2 ...</td>\n",
       "      <td>bread0.jpg</td>\n",
       "      <td>bread</td>\n",
       "      <td>8.0</td>\n",
       "      <td>https://www.bbcgoodfood.com/recipes/Easy-bread...</td>\n",
       "      <td>bbc</td>\n",
       "      <td>246</td>\n",
       "      <td>1968.0</td>\n",
       "      <td>[bread flour, action yeast, caster sugar, fine...</td>\n",
       "    </tr>\n",
       "    <tr>\n",
       "      <th>1</th>\n",
       "      <td>Vegan banana bread</td>\n",
       "      <td>https://images.immediate.co.uk/production/vola...</td>\n",
       "      <td>['3 large black bananas', '75ml vegetable oil ...</td>\n",
       "      <td>{'calories': '218 calories', 'fatContent': '8 ...</td>\n",
       "      <td>bread1.jpg</td>\n",
       "      <td>bread</td>\n",
       "      <td>10.0</td>\n",
       "      <td>https://www.bbcgoodfood.com/recipes/Vegan-bana...</td>\n",
       "      <td>bbc</td>\n",
       "      <td>218</td>\n",
       "      <td>2180.0</td>\n",
       "      <td>[black banana, sunflower oil, brown sugar, pow...</td>\n",
       "    </tr>\n",
       "  </tbody>\n",
       "</table>\n",
       "</div>"
      ],
      "text/plain": [
       "                title                                              image  \\\n",
       "0    Easy bread rolls  https://images.immediate.co.uk/production/vola...   \n",
       "1  Vegan banana bread  https://images.immediate.co.uk/production/vola...   \n",
       "\n",
       "                                         ingredients  \\\n",
       "0  ['500g strong white bread flour , plus extra f...   \n",
       "1  ['3 large black bananas', '75ml vegetable oil ...   \n",
       "\n",
       "                                           nutrients   file_name category  \\\n",
       "0  {'calories': '246 calories', 'fatContent': '2 ...  bread0.jpg    bread   \n",
       "1  {'calories': '218 calories', 'fatContent': '8 ...  bread1.jpg    bread   \n",
       "\n",
       "   serving                                                url source  calorie  \\\n",
       "0      8.0  https://www.bbcgoodfood.com/recipes/Easy-bread...    bbc      246   \n",
       "1     10.0  https://www.bbcgoodfood.com/recipes/Vegan-bana...    bbc      218   \n",
       "\n",
       "   calorie_per_recipe                                 parsed_ingredients  \n",
       "0              1968.0  [bread flour, action yeast, caster sugar, fine...  \n",
       "1              2180.0  [black banana, sunflower oil, brown sugar, pow...  "
      ]
     },
     "execution_count": 23,
     "metadata": {},
     "output_type": "execute_result"
    }
   ],
   "source": [
    "train_data['parsed_ingredients'] = train_data['ingredients'].apply(clean_recipe)\n",
    "test_data['parsed_ingredients'] = test_data['ingredients'].apply(clean_recipe)\n",
    "train_data[:2]"
   ]
  },
  {
   "cell_type": "code",
   "execution_count": 24,
   "metadata": {},
   "outputs": [
    {
     "data": {
      "text/plain": [
       "[('olive oil', 2535),\n",
       " ('garlic clove', 1257),\n",
       " ('kosher salt', 1121),\n",
       " ('black pepper', 913),\n",
       " ('egg', 835)]"
      ]
     },
     "execution_count": 24,
     "metadata": {},
     "output_type": "execute_result"
    }
   ],
   "source": [
    "# store top 100 ingredients as csv file \n",
    "top_ingredients_number = 100\n",
    "dic_sorted, top_ingredient = find_top_100_ingredients_in_training(train_data, top_ingredients_number)\n",
    "pd.DataFrame(dic_sorted[:top_ingredients_number], columns=['ingredient', 'recipe number']).to_csv('./data/per_recipe/top_100_ingre_in_training_set_per_recipe.csv', index=False)    \n",
    "dic_sorted[:5]"
   ]
  },
  {
   "cell_type": "code",
   "execution_count": 25,
   "metadata": {},
   "outputs": [
    {
     "data": {
      "text/html": [
       "<div>\n",
       "<style scoped>\n",
       "    .dataframe tbody tr th:only-of-type {\n",
       "        vertical-align: middle;\n",
       "    }\n",
       "\n",
       "    .dataframe tbody tr th {\n",
       "        vertical-align: top;\n",
       "    }\n",
       "\n",
       "    .dataframe thead th {\n",
       "        text-align: right;\n",
       "    }\n",
       "</style>\n",
       "<table border=\"1\" class=\"dataframe\">\n",
       "  <thead>\n",
       "    <tr style=\"text-align: right;\">\n",
       "      <th></th>\n",
       "      <th>title</th>\n",
       "      <th>image</th>\n",
       "      <th>ingredients</th>\n",
       "      <th>nutrients</th>\n",
       "      <th>file_name</th>\n",
       "      <th>category</th>\n",
       "      <th>serving</th>\n",
       "      <th>url</th>\n",
       "      <th>source</th>\n",
       "      <th>calorie</th>\n",
       "      <th>calorie_per_recipe</th>\n",
       "      <th>parsed_ingredients</th>\n",
       "      <th>ingredient_vector</th>\n",
       "    </tr>\n",
       "  </thead>\n",
       "  <tbody>\n",
       "    <tr>\n",
       "      <th>0</th>\n",
       "      <td>Easy bread rolls</td>\n",
       "      <td>https://images.immediate.co.uk/production/vola...</td>\n",
       "      <td>['500g strong white bread flour , plus extra f...</td>\n",
       "      <td>{'calories': '246 calories', 'fatContent': '2 ...</td>\n",
       "      <td>bread0.jpg</td>\n",
       "      <td>bread</td>\n",
       "      <td>8.0</td>\n",
       "      <td>https://www.bbcgoodfood.com/recipes/Easy-bread...</td>\n",
       "      <td>bbc</td>\n",
       "      <td>246</td>\n",
       "      <td>1968.0</td>\n",
       "      <td>[bread flour, action yeast, caster sugar, fine...</td>\n",
       "      <td>[0, 0, 0, 0, 0, 0, 0, 0, 0, 0, 0, 0, 0, 0, 0, ...</td>\n",
       "    </tr>\n",
       "    <tr>\n",
       "      <th>1</th>\n",
       "      <td>Vegan banana bread</td>\n",
       "      <td>https://images.immediate.co.uk/production/vola...</td>\n",
       "      <td>['3 large black bananas', '75ml vegetable oil ...</td>\n",
       "      <td>{'calories': '218 calories', 'fatContent': '8 ...</td>\n",
       "      <td>bread1.jpg</td>\n",
       "      <td>bread</td>\n",
       "      <td>10.0</td>\n",
       "      <td>https://www.bbcgoodfood.com/recipes/Vegan-bana...</td>\n",
       "      <td>bbc</td>\n",
       "      <td>218</td>\n",
       "      <td>2180.0</td>\n",
       "      <td>[black banana, sunflower oil, brown sugar, pow...</td>\n",
       "      <td>[0, 0, 0, 0, 0, 0, 0, 0, 0, 0, 0, 0, 0, 0, 0, ...</td>\n",
       "    </tr>\n",
       "  </tbody>\n",
       "</table>\n",
       "</div>"
      ],
      "text/plain": [
       "                title                                              image  \\\n",
       "0    Easy bread rolls  https://images.immediate.co.uk/production/vola...   \n",
       "1  Vegan banana bread  https://images.immediate.co.uk/production/vola...   \n",
       "\n",
       "                                         ingredients  \\\n",
       "0  ['500g strong white bread flour , plus extra f...   \n",
       "1  ['3 large black bananas', '75ml vegetable oil ...   \n",
       "\n",
       "                                           nutrients   file_name category  \\\n",
       "0  {'calories': '246 calories', 'fatContent': '2 ...  bread0.jpg    bread   \n",
       "1  {'calories': '218 calories', 'fatContent': '8 ...  bread1.jpg    bread   \n",
       "\n",
       "   serving                                                url source  calorie  \\\n",
       "0      8.0  https://www.bbcgoodfood.com/recipes/Easy-bread...    bbc      246   \n",
       "1     10.0  https://www.bbcgoodfood.com/recipes/Vegan-bana...    bbc      218   \n",
       "\n",
       "   calorie_per_recipe                                 parsed_ingredients  \\\n",
       "0              1968.0  [bread flour, action yeast, caster sugar, fine...   \n",
       "1              2180.0  [black banana, sunflower oil, brown sugar, pow...   \n",
       "\n",
       "                                   ingredient_vector  \n",
       "0  [0, 0, 0, 0, 0, 0, 0, 0, 0, 0, 0, 0, 0, 0, 0, ...  \n",
       "1  [0, 0, 0, 0, 0, 0, 0, 0, 0, 0, 0, 0, 0, 0, 0, ...  "
      ]
     },
     "execution_count": 25,
     "metadata": {},
     "output_type": "execute_result"
    }
   ],
   "source": [
    "train_data = add_ingredient_vector(train_data, top_ingredient, top_ingredients_number)\n",
    "test_data = add_ingredient_vector(test_data, top_ingredient, top_ingredients_number)\n",
    "\n",
    "train_data.to_csv('./data/per_recipe/train_per_recipe_ingredient_vector.csv', index=False)\n",
    "test_data.to_csv('./data/per_recipe/test_per_recipe_ingredient_vector.csv', index=False)\n",
    "train_data[:2]"
   ]
  },
  {
   "cell_type": "code",
   "execution_count": null,
   "metadata": {},
   "outputs": [],
   "source": []
  },
  {
   "cell_type": "code",
   "execution_count": null,
   "metadata": {},
   "outputs": [],
   "source": []
  },
  {
   "cell_type": "markdown",
   "metadata": {},
   "source": [
    "## Integrate three vectors"
   ]
  },
  {
   "cell_type": "markdown",
   "metadata": {},
   "source": [
    "### per serving"
   ]
  },
  {
   "cell_type": "code",
   "execution_count": 2,
   "metadata": {},
   "outputs": [
    {
     "name": "stdout",
     "output_type": "stream",
     "text": [
      "6501\n",
      "1147\n",
      "6501\n",
      "1147\n",
      "6457\n",
      "1132\n"
     ]
    }
   ],
   "source": [
    "train_category = pd.read_csv('./data/per_serving/train_per_serving_category_vector.csv')\n",
    "test_category = pd.read_csv('./data/per_serving/test_per_serving_category_vector.csv')\n",
    "\n",
    "train_ingredient = pd.read_csv('./data/per_serving/train_per_serving_ingredient_vector.csv')\n",
    "test_ingredient = pd.read_csv('./data/per_serving/test_per_serving_ingredient_vector.csv')\n",
    "\n",
    "train_nutrient = pd.read_csv('./data/per_serving/train_per_serving_nutrient_vector.csv')\n",
    "test_nutrient = pd.read_csv('./data/per_serving/test_per_serving_nutrient_vector.csv')\n",
    "\n",
    "print(len(train_category))\n",
    "print(len(test_category))\n",
    "print(len(train_ingredient))\n",
    "print(len(test_ingredient))\n",
    "print(len(train_nutrient))\n",
    "print(len(test_nutrient))"
   ]
  },
  {
   "cell_type": "code",
   "execution_count": 4,
   "metadata": {},
   "outputs": [
    {
     "name": "stdout",
     "output_type": "stream",
     "text": [
      "6457\n",
      "1132\n"
     ]
    }
   ],
   "source": [
    "train_complete = train_category.merge(train_ingredient, how='right').merge(train_nutrient, how='right')\n",
    "test_complete = test_category.merge(test_ingredient, how='right').merge(test_nutrient, how='right')\n",
    "train_complete.to_csv('./data/per_serving/train_per_serving_complete.csv', index=False)\n",
    "test_complete.to_csv('./data/per_serving/test_per_serving_complete.csv', index=False)\n",
    "print(len(train_complete))\n",
    "print(len(test_complete))"
   ]
  },
  {
   "cell_type": "markdown",
   "metadata": {},
   "source": [
    "### per recipe"
   ]
  },
  {
   "cell_type": "code",
   "execution_count": 15,
   "metadata": {},
   "outputs": [
    {
     "name": "stdout",
     "output_type": "stream",
     "text": [
      "5482\n",
      "967\n",
      "5482\n",
      "967\n",
      "5422\n",
      "937\n"
     ]
    }
   ],
   "source": [
    "train_category = pd.read_csv('./data/per_recipe/train_per_recipe_category_vector.csv')\n",
    "test_category = pd.read_csv('./data/per_recipe/test_per_recipe_category_vector.csv')\n",
    "\n",
    "train_ingredient = pd.read_csv('./data/per_recipe/train_per_recipe_ingredient_vector.csv')\n",
    "test_ingredient = pd.read_csv('./data/per_recipe/test_per_recipe_ingredient_vector.csv')\n",
    "\n",
    "train_nutrient = pd.read_csv('./data/per_recipe/train_per_recipe_nutrient_vector.csv')\n",
    "test_nutrient = pd.read_csv('./data/per_recipe/test_per_recipe_nutrient_vector.csv')\n",
    "\n",
    "print(len(train_category))\n",
    "print(len(test_category))\n",
    "print(len(train_ingredient))\n",
    "print(len(test_ingredient))\n",
    "print(len(train_nutrient))\n",
    "print(len(test_nutrient))"
   ]
  },
  {
   "cell_type": "code",
   "execution_count": 16,
   "metadata": {},
   "outputs": [
    {
     "name": "stdout",
     "output_type": "stream",
     "text": [
      "5422\n",
      "937\n"
     ]
    }
   ],
   "source": [
    "train_complete = train_category.merge(train_ingredient, how='right').merge(train_nutrient, how='right')\n",
    "test_complete = test_category.merge(test_ingredient, how='right').merge(test_nutrient, how='right')\n",
    "train_complete.to_csv('./data/per_recipe/train_per_recipe_complete.csv', index=False)\n",
    "test_complete.to_csv('./data/per_recipe/test_per_recipe_complete.csv', index=False)\n",
    "print(len(train_complete))\n",
    "print(len(test_complete))"
   ]
  },
  {
   "cell_type": "code",
   "execution_count": null,
   "metadata": {},
   "outputs": [],
   "source": []
  },
  {
   "cell_type": "code",
   "execution_count": null,
   "metadata": {},
   "outputs": [],
   "source": []
  },
  {
   "cell_type": "code",
   "execution_count": null,
   "metadata": {},
   "outputs": [],
   "source": []
  },
  {
   "cell_type": "code",
   "execution_count": null,
   "metadata": {},
   "outputs": [],
   "source": []
  }
 ],
 "metadata": {
  "kernelspec": {
   "display_name": "Python 3",
   "language": "python",
   "name": "python3"
  },
  "language_info": {
   "codemirror_mode": {
    "name": "ipython",
    "version": 3
   },
   "file_extension": ".py",
   "mimetype": "text/x-python",
   "name": "python",
   "nbconvert_exporter": "python",
   "pygments_lexer": "ipython3",
   "version": "3.8.5"
  }
 },
 "nbformat": 4,
 "nbformat_minor": 4
}
